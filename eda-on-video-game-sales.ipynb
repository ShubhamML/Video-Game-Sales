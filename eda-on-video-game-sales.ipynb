{
 "cells": [
  {
   "cell_type": "markdown",
   "metadata": {},
   "source": [
    "# Video Game Sales Exploratory Data Analysis"
   ]
  },
  {
   "cell_type": "markdown",
   "metadata": {},
   "source": [
    "In this notebook we're gonna explore the dataset of video game sales and perform exploratory data analysis"
   ]
  },
  {
   "cell_type": "markdown",
   "metadata": {},
   "source": [
    "# Importing  libraries"
   ]
  },
  {
   "cell_type": "code",
   "execution_count": 1,
   "metadata": {},
   "outputs": [
    {
     "data": {
      "text/html": [
       "        <script type=\"text/javascript\">\n",
       "        window.PlotlyConfig = {MathJaxConfig: 'local'};\n",
       "        if (window.MathJax) {MathJax.Hub.Config({SVG: {font: \"STIX-Web\"}});}\n",
       "        if (typeof require !== 'undefined') {\n",
       "        require.undef(\"plotly\");\n",
       "        requirejs.config({\n",
       "            paths: {\n",
       "                'plotly': ['https://cdn.plot.ly/plotly-latest.min']\n",
       "            }\n",
       "        });\n",
       "        require(['plotly'], function(Plotly) {\n",
       "            window._Plotly = Plotly;\n",
       "        });\n",
       "        }\n",
       "        </script>\n",
       "        "
      ]
     },
     "metadata": {},
     "output_type": "display_data"
    }
   ],
   "source": [
    "import numpy as np # linear algebra\n",
    "import pandas as pd # data processing, CSV file I/O (e.g. pd.read_csv)\n",
    "from plotly.offline import init_notebook_mode,iplot\n",
    "init_notebook_mode(connected=True)\n",
    "import seaborn as sns\n",
    "import plotly.graph_objs as go\n",
    "from plotly.tools import FigureFactory as ff\n",
    "import matplotlib.pyplot as plt\n",
    "import warnings\n",
    "warnings.filterwarnings(\"ignore\")\n",
    "%matplotlib inline"
   ]
  },
  {
   "cell_type": "markdown",
   "metadata": {},
   "source": [
    "## Reading data"
   ]
  },
  {
   "cell_type": "code",
   "execution_count": 2,
   "metadata": {},
   "outputs": [
    {
     "data": {
      "text/html": [
       "<div>\n",
       "<style scoped>\n",
       "    .dataframe tbody tr th:only-of-type {\n",
       "        vertical-align: middle;\n",
       "    }\n",
       "\n",
       "    .dataframe tbody tr th {\n",
       "        vertical-align: top;\n",
       "    }\n",
       "\n",
       "    .dataframe thead th {\n",
       "        text-align: right;\n",
       "    }\n",
       "</style>\n",
       "<table border=\"1\" class=\"dataframe\">\n",
       "  <thead>\n",
       "    <tr style=\"text-align: right;\">\n",
       "      <th></th>\n",
       "      <th>Rank</th>\n",
       "      <th>Name</th>\n",
       "      <th>Platform</th>\n",
       "      <th>Year</th>\n",
       "      <th>Genre</th>\n",
       "      <th>Publisher</th>\n",
       "      <th>NA_Sales</th>\n",
       "      <th>EU_Sales</th>\n",
       "      <th>JP_Sales</th>\n",
       "      <th>Other_Sales</th>\n",
       "      <th>Global_Sales</th>\n",
       "    </tr>\n",
       "  </thead>\n",
       "  <tbody>\n",
       "    <tr>\n",
       "      <th>0</th>\n",
       "      <td>1</td>\n",
       "      <td>Wii Sports</td>\n",
       "      <td>Wii</td>\n",
       "      <td>2006.0</td>\n",
       "      <td>Sports</td>\n",
       "      <td>Nintendo</td>\n",
       "      <td>41.49</td>\n",
       "      <td>29.02</td>\n",
       "      <td>3.77</td>\n",
       "      <td>8.46</td>\n",
       "      <td>82.74</td>\n",
       "    </tr>\n",
       "    <tr>\n",
       "      <th>1</th>\n",
       "      <td>2</td>\n",
       "      <td>Super Mario Bros.</td>\n",
       "      <td>NES</td>\n",
       "      <td>1985.0</td>\n",
       "      <td>Platform</td>\n",
       "      <td>Nintendo</td>\n",
       "      <td>29.08</td>\n",
       "      <td>3.58</td>\n",
       "      <td>6.81</td>\n",
       "      <td>0.77</td>\n",
       "      <td>40.24</td>\n",
       "    </tr>\n",
       "    <tr>\n",
       "      <th>2</th>\n",
       "      <td>3</td>\n",
       "      <td>Mario Kart Wii</td>\n",
       "      <td>Wii</td>\n",
       "      <td>2008.0</td>\n",
       "      <td>Racing</td>\n",
       "      <td>Nintendo</td>\n",
       "      <td>15.85</td>\n",
       "      <td>12.88</td>\n",
       "      <td>3.79</td>\n",
       "      <td>3.31</td>\n",
       "      <td>35.82</td>\n",
       "    </tr>\n",
       "    <tr>\n",
       "      <th>3</th>\n",
       "      <td>4</td>\n",
       "      <td>Wii Sports Resort</td>\n",
       "      <td>Wii</td>\n",
       "      <td>2009.0</td>\n",
       "      <td>Sports</td>\n",
       "      <td>Nintendo</td>\n",
       "      <td>15.75</td>\n",
       "      <td>11.01</td>\n",
       "      <td>3.28</td>\n",
       "      <td>2.96</td>\n",
       "      <td>33.00</td>\n",
       "    </tr>\n",
       "    <tr>\n",
       "      <th>4</th>\n",
       "      <td>5</td>\n",
       "      <td>Pokemon Red/Pokemon Blue</td>\n",
       "      <td>GB</td>\n",
       "      <td>1996.0</td>\n",
       "      <td>Role-Playing</td>\n",
       "      <td>Nintendo</td>\n",
       "      <td>11.27</td>\n",
       "      <td>8.89</td>\n",
       "      <td>10.22</td>\n",
       "      <td>1.00</td>\n",
       "      <td>31.37</td>\n",
       "    </tr>\n",
       "  </tbody>\n",
       "</table>\n",
       "</div>"
      ],
      "text/plain": [
       "   Rank                      Name Platform    Year         Genre Publisher  \\\n",
       "0     1                Wii Sports      Wii  2006.0        Sports  Nintendo   \n",
       "1     2         Super Mario Bros.      NES  1985.0      Platform  Nintendo   \n",
       "2     3            Mario Kart Wii      Wii  2008.0        Racing  Nintendo   \n",
       "3     4         Wii Sports Resort      Wii  2009.0        Sports  Nintendo   \n",
       "4     5  Pokemon Red/Pokemon Blue       GB  1996.0  Role-Playing  Nintendo   \n",
       "\n",
       "   NA_Sales  EU_Sales  JP_Sales  Other_Sales  Global_Sales  \n",
       "0     41.49     29.02      3.77         8.46         82.74  \n",
       "1     29.08      3.58      6.81         0.77         40.24  \n",
       "2     15.85     12.88      3.79         3.31         35.82  \n",
       "3     15.75     11.01      3.28         2.96         33.00  \n",
       "4     11.27      8.89     10.22         1.00         31.37  "
      ]
     },
     "execution_count": 2,
     "metadata": {},
     "output_type": "execute_result"
    }
   ],
   "source": [
    "df=pd.read_csv('vgsales.csv')\n",
    "df.head()"
   ]
  },
  {
   "cell_type": "code",
   "execution_count": 3,
   "metadata": {},
   "outputs": [
    {
     "name": "stdout",
     "output_type": "stream",
     "text": [
      "<class 'pandas.core.frame.DataFrame'>\n",
      "RangeIndex: 16598 entries, 0 to 16597\n",
      "Data columns (total 11 columns):\n",
      " #   Column        Non-Null Count  Dtype  \n",
      "---  ------        --------------  -----  \n",
      " 0   Rank          16598 non-null  int64  \n",
      " 1   Name          16598 non-null  object \n",
      " 2   Platform      16598 non-null  object \n",
      " 3   Year          16327 non-null  float64\n",
      " 4   Genre         16598 non-null  object \n",
      " 5   Publisher     16540 non-null  object \n",
      " 6   NA_Sales      16598 non-null  float64\n",
      " 7   EU_Sales      16598 non-null  float64\n",
      " 8   JP_Sales      16598 non-null  float64\n",
      " 9   Other_Sales   16598 non-null  float64\n",
      " 10  Global_Sales  16598 non-null  float64\n",
      "dtypes: float64(6), int64(1), object(4)\n",
      "memory usage: 1.4+ MB\n"
     ]
    }
   ],
   "source": [
    "df.info()"
   ]
  },
  {
   "cell_type": "code",
   "execution_count": 4,
   "metadata": {},
   "outputs": [
    {
     "data": {
      "text/plain": [
       "<AxesSubplot:>"
      ]
     },
     "execution_count": 4,
     "metadata": {},
     "output_type": "execute_result"
    },
    {
     "data": {
      "image/png": "[encoded data removed]",
      "text/plain": [
       "<Figure size 432x288 with 1 Axes>"
      ]
     },
     "metadata": {
      "needs_background": "light"
     },
     "output_type": "display_data"
    }
   ],
   "source": [
    "#check for missing values\n",
    "sns.heatmap(df.isnull(),cbar=False,cmap='YlGnBu')"
   ]
  },
  {
   "cell_type": "code",
   "execution_count": 5,
   "metadata": {},
   "outputs": [
    {
     "data": {
      "image/png": "[encoded data removed]",
      "text/plain": [
       "<Figure size 720x576 with 2 Axes>"
      ]
     },
     "metadata": {
      "needs_background": "light"
     },
     "output_type": "display_data"
    }
   ],
   "source": [
    "# columns with correlation more than 0.50\n",
    "corr=df.corr()\n",
    "plt.figure(figsize=(10,8))\n",
    "sns.heatmap(corr[(corr >= 0.50) | (corr <= -0.50)], \n",
    "            cmap='viridis', vmax=1.0, vmin=-1.0, linewidths=0.1,\n",
    "            annot=True, annot_kws={\"size\": 8}, square=True);"
   ]
  },
  {
   "cell_type": "code",
   "execution_count": 6,
   "metadata": {},
   "outputs": [
    {
     "data": {
      "text/html": [
       "<div>\n",
       "<style scoped>\n",
       "    .dataframe tbody tr th:only-of-type {\n",
       "        vertical-align: middle;\n",
       "    }\n",
       "\n",
       "    .dataframe tbody tr th {\n",
       "        vertical-align: top;\n",
       "    }\n",
       "\n",
       "    .dataframe thead th {\n",
       "        text-align: right;\n",
       "    }\n",
       "</style>\n",
       "<table border=\"1\" class=\"dataframe\">\n",
       "  <thead>\n",
       "    <tr style=\"text-align: right;\">\n",
       "      <th></th>\n",
       "      <th>Rank</th>\n",
       "      <th>Year</th>\n",
       "      <th>NA_Sales</th>\n",
       "      <th>EU_Sales</th>\n",
       "      <th>JP_Sales</th>\n",
       "      <th>Other_Sales</th>\n",
       "      <th>Global_Sales</th>\n",
       "    </tr>\n",
       "  </thead>\n",
       "  <tbody>\n",
       "    <tr>\n",
       "      <th>count</th>\n",
       "      <td>16598.000000</td>\n",
       "      <td>16327.000000</td>\n",
       "      <td>16598.000000</td>\n",
       "      <td>16598.000000</td>\n",
       "      <td>16598.000000</td>\n",
       "      <td>16598.000000</td>\n",
       "      <td>16598.000000</td>\n",
       "    </tr>\n",
       "    <tr>\n",
       "      <th>mean</th>\n",
       "      <td>8300.605254</td>\n",
       "      <td>2006.406443</td>\n",
       "      <td>0.264667</td>\n",
       "      <td>0.146652</td>\n",
       "      <td>0.077782</td>\n",
       "      <td>0.048063</td>\n",
       "      <td>0.537441</td>\n",
       "    </tr>\n",
       "    <tr>\n",
       "      <th>std</th>\n",
       "      <td>4791.853933</td>\n",
       "      <td>5.828981</td>\n",
       "      <td>0.816683</td>\n",
       "      <td>0.505351</td>\n",
       "      <td>0.309291</td>\n",
       "      <td>0.188588</td>\n",
       "      <td>1.555028</td>\n",
       "    </tr>\n",
       "    <tr>\n",
       "      <th>min</th>\n",
       "      <td>1.000000</td>\n",
       "      <td>1980.000000</td>\n",
       "      <td>0.000000</td>\n",
       "      <td>0.000000</td>\n",
       "      <td>0.000000</td>\n",
       "      <td>0.000000</td>\n",
       "      <td>0.010000</td>\n",
       "    </tr>\n",
       "    <tr>\n",
       "      <th>25%</th>\n",
       "      <td>4151.250000</td>\n",
       "      <td>2003.000000</td>\n",
       "      <td>0.000000</td>\n",
       "      <td>0.000000</td>\n",
       "      <td>0.000000</td>\n",
       "      <td>0.000000</td>\n",
       "      <td>0.060000</td>\n",
       "    </tr>\n",
       "    <tr>\n",
       "      <th>50%</th>\n",
       "      <td>8300.500000</td>\n",
       "      <td>2007.000000</td>\n",
       "      <td>0.080000</td>\n",
       "      <td>0.020000</td>\n",
       "      <td>0.000000</td>\n",
       "      <td>0.010000</td>\n",
       "      <td>0.170000</td>\n",
       "    </tr>\n",
       "    <tr>\n",
       "      <th>75%</th>\n",
       "      <td>12449.750000</td>\n",
       "      <td>2010.000000</td>\n",
       "      <td>0.240000</td>\n",
       "      <td>0.110000</td>\n",
       "      <td>0.040000</td>\n",
       "      <td>0.040000</td>\n",
       "      <td>0.470000</td>\n",
       "    </tr>\n",
       "    <tr>\n",
       "      <th>max</th>\n",
       "      <td>16600.000000</td>\n",
       "      <td>2020.000000</td>\n",
       "      <td>41.490000</td>\n",
       "      <td>29.020000</td>\n",
       "      <td>10.220000</td>\n",
       "      <td>10.570000</td>\n",
       "      <td>82.740000</td>\n",
       "    </tr>\n",
       "  </tbody>\n",
       "</table>\n",
       "</div>"
      ],
      "text/plain": [
       "               Rank          Year      NA_Sales      EU_Sales      JP_Sales  \\\n",
       "count  16598.000000  16327.000000  16598.000000  16598.000000  16598.000000   \n",
       "mean    8300.605254   2006.406443      0.264667      0.146652      0.077782   \n",
       "std     4791.853933      5.828981      0.816683      0.505351      0.309291   \n",
       "min        1.000000   1980.000000      0.000000      0.000000      0.000000   \n",
       "25%     4151.250000   2003.000000      0.000000      0.000000      0.000000   \n",
       "50%     8300.500000   2007.000000      0.080000      0.020000      0.000000   \n",
       "75%    12449.750000   2010.000000      0.240000      0.110000      0.040000   \n",
       "max    16600.000000   2020.000000     41.490000     29.020000     10.220000   \n",
       "\n",
       "        Other_Sales  Global_Sales  \n",
       "count  16598.000000  16598.000000  \n",
       "mean       0.048063      0.537441  \n",
       "std        0.188588      1.555028  \n",
       "min        0.000000      0.010000  \n",
       "25%        0.000000      0.060000  \n",
       "50%        0.010000      0.170000  \n",
       "75%        0.040000      0.470000  \n",
       "max       10.570000     82.740000  "
      ]
     },
     "execution_count": 6,
     "metadata": {},
     "output_type": "execute_result"
    }
   ],
   "source": [
    "df.describe()"
   ]
  },
  {
   "cell_type": "markdown",
   "metadata": {},
   "source": [
    "## Now let's do some exploratory data analysis on the dataset"
   ]
  },
  {
   "cell_type": "code",
   "execution_count": 7,
   "metadata": {},
   "outputs": [],
   "source": [
    "# top 100 games according to their rank\n",
    "top100=df.head(100)"
   ]
  },
  {
   "cell_type": "code",
   "execution_count": 8,
   "metadata": {},
   "outputs": [
    {
     "data": {
      "text/plain": [
       "<AxesSubplot:xlabel='Platform', ylabel='count'>"
      ]
     },
     "execution_count": 8,
     "metadata": {},
     "output_type": "execute_result"
    },
    {
     "data": {
      "image/png": "[encoded data removed]",
      "text/plain": [
       "<Figure size 864x432 with 1 Axes>"
      ]
     },
     "metadata": {},
     "output_type": "display_data"
    }
   ],
   "source": [
    "# let's look at the most popular platforms\n",
    "sns.set(rc={'figure.figsize':(12,6)})\n",
    "sns.countplot(x='Platform',data=top100)"
   ]
  },
  {
   "cell_type": "code",
   "execution_count": 9,
   "metadata": {},
   "outputs": [
    {
     "data": {
      "text/plain": [
       "<AxesSubplot:xlabel='Genre', ylabel='count'>"
      ]
     },
     "execution_count": 9,
     "metadata": {},
     "output_type": "execute_result"
    },
    {
     "data": {
      "image/png": "[encoded data removed]",
      "text/plain": [
       "<Figure size 864x432 with 1 Axes>"
      ]
     },
     "metadata": {},
     "output_type": "display_data"
    }
   ],
   "source": [
    "# let's look at the most popular genres\n",
    "sns.set(rc={'figure.figsize':(12,6)})\n",
    "sns.countplot(x='Genre',data=top100)"
   ]
  },
  {
   "cell_type": "code",
   "execution_count": 10,
   "metadata": {},
   "outputs": [
    {
     "data": {
      "application/vnd.plotly.v1+json": {
       "config": {
        "plotlyServerURL": "https://plot.ly"
       },
       "data": [
        {
         "domain": {
          "x": [
           0,
           0.5
          ]
         },
         "hole": 0.5,
         "labels": [
          "Nintendo",
          "Nintendo",
          "Nintendo",
          "Nintendo",
          "Nintendo",
          "Nintendo",
          "Nintendo",
          "Nintendo",
          "Nintendo",
          "Nintendo",
          "Nintendo",
          "Nintendo",
          "Nintendo",
          "Nintendo",
          "Nintendo",
          "Microsoft Game Studios",
          "Take-Two Interactive",
          "Take-Two Interactive",
          "Nintendo",
          "Nintendo",
          "Nintendo",
          "Nintendo",
          "Nintendo",
          "Take-Two Interactive",
          "Take-Two Interactive",
          "Nintendo",
          "Nintendo",
          "Nintendo",
          "Sony Computer Entertainment",
          "Activision",
          "Nintendo",
          "Activision",
          "Nintendo",
          "Activision",
          "Activision",
          "Activision",
          "Activision",
          "Activision",
          "Take-Two Interactive",
          "Nintendo",
          "Activision",
          "Nintendo",
          "Nintendo",
          "Microsoft Game Studios",
          "Take-Two Interactive",
          "Nintendo",
          "Nintendo",
          "Sony Computer Entertainment",
          "Nintendo",
          "Nintendo",
          "Nintendo",
          "Take-Two Interactive",
          "Sony Computer Entertainment",
          "Nintendo",
          "Sony Computer Entertainment",
          "Activision",
          "Take-Two Interactive",
          "Nintendo",
          "Nintendo",
          "Nintendo",
          "Ubisoft",
          "Activision",
          "Microsoft Game Studios",
          "Nintendo",
          "Nintendo",
          "Microsoft Game Studios",
          "Sony Computer Entertainment",
          "Activision",
          "Ubisoft",
          "Sony Computer Entertainment",
          "Activision",
          "Nintendo",
          "Microsoft Game Studios",
          "Nintendo",
          "Nintendo",
          "Bethesda Softworks",
          "Nintendo",
          "Electronic Arts",
          "Nintendo",
          "Microsoft Game Studios",
          "Nintendo",
          "Nintendo",
          "Electronic Arts",
          "Electronic Arts",
          "Nintendo",
          "Sega",
          "Sony Computer Entertainment",
          "SquareSoft",
          "Nintendo",
          "Atari",
          "Take-Two Interactive",
          "Nintendo",
          "Electronic Arts",
          "Activision",
          "Nintendo",
          "Sony Computer Entertainment",
          "Nintendo",
          "Nintendo",
          "Activision",
          "Electronic Arts"
         ],
         "marker": {
          "colors": [
           "violet",
           "cornflowerblue"
          ],
          "line": {
           "color": "#000000",
           "width": 2
          }
         },
         "name": "Sales",
         "type": "pie",
         "values": [
          3,
          2,
          2,
          1,
          1,
          1,
          1,
          1,
          1,
          1,
          1,
          1,
          1,
          1,
          1,
          1,
          1,
          1,
          1,
          1,
          1,
          1,
          1,
          1,
          1,
          1,
          1,
          1,
          1,
          1,
          1,
          1,
          1,
          1,
          1,
          1,
          1,
          1,
          1,
          1,
          1,
          1,
          1,
          1,
          1,
          1,
          1,
          1,
          1,
          1,
          1,
          1,
          1,
          1,
          1,
          1,
          1,
          1,
          1,
          1,
          1,
          1,
          1,
          1,
          1,
          1,
          1,
          1,
          1,
          1,
          1,
          1,
          1,
          1,
          1,
          1,
          1,
          1,
          1,
          1,
          1,
          1,
          1,
          1,
          1,
          1,
          1,
          1,
          1,
          1,
          1,
          1,
          1,
          1,
          1,
          1
         ]
        }
       ],
       "layout": {
        "paper_bgcolor": "rgba(0,0,0,0)",
        "plot_bgcolor": "rgba(0,0,0,0)",
        "template": {
         "data": {
          "bar": [
           {
            "error_x": {
             "color": "#2a3f5f"
            },
            "error_y": {
             "color": "#2a3f5f"
            },
            "marker": {
             "line": {
              "color": "#E5ECF6",
              "width": 0.5
             }
            },
            "type": "bar"
           }
          ],
          "barpolar": [
           {
            "marker": {
             "line": {
              "color": "#E5ECF6",
              "width": 0.5
             }
            },
            "type": "barpolar"
           }
          ],
          "carpet": [
           {
            "aaxis": {
             "endlinecolor": "#2a3f5f",
             "gridcolor": "white",
             "linecolor": "white",
             "minorgridcolor": "white",
             "startlinecolor": "#2a3f5f"
            },
            "baxis": {
             "endlinecolor": "#2a3f5f",
             "gridcolor": "white",
             "linecolor": "white",
             "minorgridcolor": "white",
             "startlinecolor": "#2a3f5f"
            },
            "type": "carpet"
           }
          ],
          "choropleth": [
           {
            "colorbar": {
             "outlinewidth": 0,
             "ticks": ""
            },
            "type": "choropleth"
           }
          ],
          "contour": [
           {
            "colorbar": {
             "outlinewidth": 0,
             "ticks": ""
            },
            "colorscale": [
             [
              0,
              "#0d0887"
             ],
             [
              0.1111111111111111,
              "#46039f"
             ],
             [
              0.2222222222222222,
              "#7201a8"
             ],
             [
              0.3333333333333333,
              "#9c179e"
             ],
             [
              0.4444444444444444,
              "#bd3786"
             ],
             [
              0.5555555555555556,
              "#d8576b"
             ],
             [
              0.6666666666666666,
              "#ed7953"
             ],
             [
              0.7777777777777778,
              "#fb9f3a"
             ],
             [
              0.8888888888888888,
              "#fdca26"
             ],
             [
              1,
              "#f0f921"
             ]
            ],
            "type": "contour"
           }
          ],
          "contourcarpet": [
           {
            "colorbar": {
             "outlinewidth": 0,
             "ticks": ""
            },
            "type": "contourcarpet"
           }
          ],
          "heatmap": [
           {
            "colorbar": {
             "outlinewidth": 0,
             "ticks": ""
            },
            "colorscale": [
             [
              0,
              "#0d0887"
             ],
             [
              0.1111111111111111,
              "#46039f"
             ],
             [
              0.2222222222222222,
              "#7201a8"
             ],
             [
              0.3333333333333333,
              "#9c179e"
             ],
             [
              0.4444444444444444,
              "#bd3786"
             ],
             [
              0.5555555555555556,
              "#d8576b"
             ],
             [
              0.6666666666666666,
              "#ed7953"
             ],
             [
              0.7777777777777778,
              "#fb9f3a"
             ],
             [
              0.8888888888888888,
              "#fdca26"
             ],
             [
              1,
              "#f0f921"
             ]
            ],
            "type": "heatmap"
           }
          ],
          "heatmapgl": [
           {
            "colorbar": {
             "outlinewidth": 0,
             "ticks": ""
            },
            "colorscale": [
             [
              0,
              "#0d0887"
             ],
             [
              0.1111111111111111,
              "#46039f"
             ],
             [
              0.2222222222222222,
              "#7201a8"
             ],
             [
              0.3333333333333333,
              "#9c179e"
             ],
             [
              0.4444444444444444,
              "#bd3786"
             ],
             [
              0.5555555555555556,
              "#d8576b"
             ],
             [
              0.6666666666666666,
              "#ed7953"
             ],
             [
              0.7777777777777778,
              "#fb9f3a"
             ],
             [
              0.8888888888888888,
              "#fdca26"
             ],
             [
              1,
              "#f0f921"
             ]
            ],
            "type": "heatmapgl"
           }
          ],
          "histogram": [
           {
            "marker": {
             "colorbar": {
              "outlinewidth": 0,
              "ticks": ""
             }
            },
            "type": "histogram"
           }
          ],
          "histogram2d": [
           {
            "colorbar": {
             "outlinewidth": 0,
             "ticks": ""
            },
            "colorscale": [
             [
              0,
              "#0d0887"
             ],
             [
              0.1111111111111111,
              "#46039f"
             ],
             [
              0.2222222222222222,
              "#7201a8"
             ],
             [
              0.3333333333333333,
              "#9c179e"
             ],
             [
              0.4444444444444444,
              "#bd3786"
             ],
             [
              0.5555555555555556,
              "#d8576b"
             ],
             [
              0.6666666666666666,
              "#ed7953"
             ],
             [
              0.7777777777777778,
              "#fb9f3a"
             ],
             [
              0.8888888888888888,
              "#fdca26"
             ],
             [
              1,
              "#f0f921"
             ]
            ],
            "type": "histogram2d"
           }
          ],
          "histogram2dcontour": [
           {
            "colorbar": {
             "outlinewidth": 0,
             "ticks": ""
            },
            "colorscale": [
             [
              0,
              "#0d0887"
             ],
             [
              0.1111111111111111,
              "#46039f"
             ],
             [
              0.2222222222222222,
              "#7201a8"
             ],
             [
              0.3333333333333333,
              "#9c179e"
             ],
             [
              0.4444444444444444,
              "#bd3786"
             ],
             [
              0.5555555555555556,
              "#d8576b"
             ],
             [
              0.6666666666666666,
              "#ed7953"
             ],
             [
              0.7777777777777778,
              "#fb9f3a"
             ],
             [
              0.8888888888888888,
              "#fdca26"
             ],
             [
              1,
              "#f0f921"
             ]
            ],
            "type": "histogram2dcontour"
           }
          ],
          "mesh3d": [
           {
            "colorbar": {
             "outlinewidth": 0,
             "ticks": ""
            },
            "type": "mesh3d"
           }
          ],
          "parcoords": [
           {
            "line": {
             "colorbar": {
              "outlinewidth": 0,
              "ticks": ""
             }
            },
            "type": "parcoords"
           }
          ],
          "pie": [
           {
            "automargin": true,
            "type": "pie"
           }
          ],
          "scatter": [
           {
            "marker": {
             "colorbar": {
              "outlinewidth": 0,
              "ticks": ""
             }
            },
            "type": "scatter"
           }
          ],
          "scatter3d": [
           {
            "line": {
             "colorbar": {
              "outlinewidth": 0,
              "ticks": ""
             }
            },
            "marker": {
             "colorbar": {
              "outlinewidth": 0,
              "ticks": ""
             }
            },
            "type": "scatter3d"
           }
          ],
          "scattercarpet": [
           {
            "marker": {
             "colorbar": {
              "outlinewidth": 0,
              "ticks": ""
             }
            },
            "type": "scattercarpet"
           }
          ],
          "scattergeo": [
           {
            "marker": {
             "colorbar": {
              "outlinewidth": 0,
              "ticks": ""
             }
            },
            "type": "scattergeo"
           }
          ],
          "scattergl": [
           {
            "marker": {
             "colorbar": {
              "outlinewidth": 0,
              "ticks": ""
             }
            },
            "type": "scattergl"
           }
          ],
          "scattermapbox": [
           {
            "marker": {
             "colorbar": {
              "outlinewidth": 0,
              "ticks": ""
             }
            },
            "type": "scattermapbox"
           }
          ],
          "scatterpolar": [
           {
            "marker": {
             "colorbar": {
              "outlinewidth": 0,
              "ticks": ""
             }
            },
            "type": "scatterpolar"
           }
          ],
          "scatterpolargl": [
           {
            "marker": {
             "colorbar": {
              "outlinewidth": 0,
              "ticks": ""
             }
            },
            "type": "scatterpolargl"
           }
          ],
          "scatterternary": [
           {
            "marker": {
             "colorbar": {
              "outlinewidth": 0,
              "ticks": ""
             }
            },
            "type": "scatterternary"
           }
          ],
          "surface": [
           {
            "colorbar": {
             "outlinewidth": 0,
             "ticks": ""
            },
            "colorscale": [
             [
              0,
              "#0d0887"
             ],
             [
              0.1111111111111111,
              "#46039f"
             ],
             [
              0.2222222222222222,
              "#7201a8"
             ],
             [
              0.3333333333333333,
              "#9c179e"
             ],
             [
              0.4444444444444444,
              "#bd3786"
             ],
             [
              0.5555555555555556,
              "#d8576b"
             ],
             [
              0.6666666666666666,
              "#ed7953"
             ],
             [
              0.7777777777777778,
              "#fb9f3a"
             ],
             [
              0.8888888888888888,
              "#fdca26"
             ],
             [
              1,
              "#f0f921"
             ]
            ],
            "type": "surface"
           }
          ],
          "table": [
           {
            "cells": {
             "fill": {
              "color": "#EBF0F8"
             },
             "line": {
              "color": "white"
             }
            },
            "header": {
             "fill": {
              "color": "#C8D4E3"
             },
             "line": {
              "color": "white"
             }
            },
            "type": "table"
           }
          ]
         },
         "layout": {
          "annotationdefaults": {
           "arrowcolor": "#2a3f5f",
           "arrowhead": 0,
           "arrowwidth": 1
          },
          "autotypenumbers": "strict",
          "coloraxis": {
           "colorbar": {
            "outlinewidth": 0,
            "ticks": ""
           }
          },
          "colorscale": {
           "diverging": [
            [
             0,
             "#8e0152"
            ],
            [
             0.1,
             "#c51b7d"
            ],
            [
             0.2,
             "#de77ae"
            ],
            [
             0.3,
             "#f1b6da"
            ],
            [
             0.4,
             "#fde0ef"
            ],
            [
             0.5,
             "#f7f7f7"
            ],
            [
             0.6,
             "#e6f5d0"
            ],
            [
             0.7,
             "#b8e186"
            ],
            [
             0.8,
             "#7fbc41"
            ],
            [
             0.9,
             "#4d9221"
            ],
            [
             1,
             "#276419"
            ]
           ],
           "sequential": [
            [
             0,
             "#0d0887"
            ],
            [
             0.1111111111111111,
             "#46039f"
            ],
            [
             0.2222222222222222,
             "#7201a8"
            ],
            [
             0.3333333333333333,
             "#9c179e"
            ],
            [
             0.4444444444444444,
             "#bd3786"
            ],
            [
             0.5555555555555556,
             "#d8576b"
            ],
            [
             0.6666666666666666,
             "#ed7953"
            ],
            [
             0.7777777777777778,
             "#fb9f3a"
            ],
            [
             0.8888888888888888,
             "#fdca26"
            ],
            [
             1,
             "#f0f921"
            ]
           ],
           "sequentialminus": [
            [
             0,
             "#0d0887"
            ],
            [
             0.1111111111111111,
             "#46039f"
            ],
            [
             0.2222222222222222,
             "#7201a8"
            ],
            [
             0.3333333333333333,
             "#9c179e"
            ],
            [
             0.4444444444444444,
             "#bd3786"
            ],
            [
             0.5555555555555556,
             "#d8576b"
            ],
            [
             0.6666666666666666,
             "#ed7953"
            ],
            [
             0.7777777777777778,
             "#fb9f3a"
            ],
            [
             0.8888888888888888,
             "#fdca26"
            ],
            [
             1,
             "#f0f921"
            ]
           ]
          },
          "colorway": [
           "#636efa",
           "#EF553B",
           "#00cc96",
           "#ab63fa",
           "#FFA15A",
           "#19d3f3",
           "#FF6692",
           "#B6E880",
           "#FF97FF",
           "#FECB52"
          ],
          "font": {
           "color": "#2a3f5f"
          },
          "geo": {
           "bgcolor": "white",
           "lakecolor": "white",
           "landcolor": "#E5ECF6",
           "showlakes": true,
           "showland": true,
           "subunitcolor": "white"
          },
          "hoverlabel": {
           "align": "left"
          },
          "hovermode": "closest",
          "mapbox": {
           "style": "light"
          },
          "paper_bgcolor": "white",
          "plot_bgcolor": "#E5ECF6",
          "polar": {
           "angularaxis": {
            "gridcolor": "white",
            "linecolor": "white",
            "ticks": ""
           },
           "bgcolor": "#E5ECF6",
           "radialaxis": {
            "gridcolor": "white",
            "linecolor": "white",
            "ticks": ""
           }
          },
          "scene": {
           "xaxis": {
            "backgroundcolor": "#E5ECF6",
            "gridcolor": "white",
            "gridwidth": 2,
            "linecolor": "white",
            "showbackground": true,
            "ticks": "",
            "zerolinecolor": "white"
           },
           "yaxis": {
            "backgroundcolor": "#E5ECF6",
            "gridcolor": "white",
            "gridwidth": 2,
            "linecolor": "white",
            "showbackground": true,
            "ticks": "",
            "zerolinecolor": "white"
           },
           "zaxis": {
            "backgroundcolor": "#E5ECF6",
            "gridcolor": "white",
            "gridwidth": 2,
            "linecolor": "white",
            "showbackground": true,
            "ticks": "",
            "zerolinecolor": "white"
           }
          },
          "shapedefaults": {
           "line": {
            "color": "#2a3f5f"
           }
          },
          "ternary": {
           "aaxis": {
            "gridcolor": "white",
            "linecolor": "white",
            "ticks": ""
           },
           "baxis": {
            "gridcolor": "white",
            "linecolor": "white",
            "ticks": ""
           },
           "bgcolor": "#E5ECF6",
           "caxis": {
            "gridcolor": "white",
            "linecolor": "white",
            "ticks": ""
           }
          },
          "title": {
           "x": 0.05
          },
          "xaxis": {
           "automargin": true,
           "gridcolor": "white",
           "linecolor": "white",
           "ticks": "",
           "title": {
            "standoff": 15
           },
           "zerolinecolor": "white",
           "zerolinewidth": 2
          },
          "yaxis": {
           "automargin": true,
           "gridcolor": "white",
           "linecolor": "white",
           "ticks": "",
           "title": {
            "standoff": 15
           },
           "zerolinecolor": "white",
           "zerolinewidth": 2
          }
         }
        },
        "title": {
         "text": "Sales w.r.t Publishers"
        }
       }
      },
      "text/html": [
       "<div>                            <div id=\"aea3bf7d-2482-491d-b98e-04a4297605ec\" class=\"plotly-graph-div\" style=\"height:525px; width:100%;\"></div>            <script type=\"text/javascript\">                require([\"plotly\"], function(Plotly) {                    window.PLOTLYENV=window.PLOTLYENV || {};                                    if (document.getElementById(\"aea3bf7d-2482-491d-b98e-04a4297605ec\")) {                    Plotly.newPlot(                        \"aea3bf7d-2482-491d-b98e-04a4297605ec\",                        [{\"domain\": {\"x\": [0, 0.5]}, \"hole\": 0.5, \"labels\": [\"Nintendo\", \"Nintendo\", \"Nintendo\", \"Nintendo\", \"Nintendo\", \"Nintendo\", \"Nintendo\", \"Nintendo\", \"Nintendo\", \"Nintendo\", \"Nintendo\", \"Nintendo\", \"Nintendo\", \"Nintendo\", \"Nintendo\", \"Microsoft Game Studios\", \"Take-Two Interactive\", \"Take-Two Interactive\", \"Nintendo\", \"Nintendo\", \"Nintendo\", \"Nintendo\", \"Nintendo\", \"Take-Two Interactive\", \"Take-Two Interactive\", \"Nintendo\", \"Nintendo\", \"Nintendo\", \"Sony Computer Entertainment\", \"Activision\", \"Nintendo\", \"Activision\", \"Nintendo\", \"Activision\", \"Activision\", \"Activision\", \"Activision\", \"Activision\", \"Take-Two Interactive\", \"Nintendo\", \"Activision\", \"Nintendo\", \"Nintendo\", \"Microsoft Game Studios\", \"Take-Two Interactive\", \"Nintendo\", \"Nintendo\", \"Sony Computer Entertainment\", \"Nintendo\", \"Nintendo\", \"Nintendo\", \"Take-Two Interactive\", \"Sony Computer Entertainment\", \"Nintendo\", \"Sony Computer Entertainment\", \"Activision\", \"Take-Two Interactive\", \"Nintendo\", \"Nintendo\", \"Nintendo\", \"Ubisoft\", \"Activision\", \"Microsoft Game Studios\", \"Nintendo\", \"Nintendo\", \"Microsoft Game Studios\", \"Sony Computer Entertainment\", \"Activision\", \"Ubisoft\", \"Sony Computer Entertainment\", \"Activision\", \"Nintendo\", \"Microsoft Game Studios\", \"Nintendo\", \"Nintendo\", \"Bethesda Softworks\", \"Nintendo\", \"Electronic Arts\", \"Nintendo\", \"Microsoft Game Studios\", \"Nintendo\", \"Nintendo\", \"Electronic Arts\", \"Electronic Arts\", \"Nintendo\", \"Sega\", \"Sony Computer Entertainment\", \"SquareSoft\", \"Nintendo\", \"Atari\", \"Take-Two Interactive\", \"Nintendo\", \"Electronic Arts\", \"Activision\", \"Nintendo\", \"Sony Computer Entertainment\", \"Nintendo\", \"Nintendo\", \"Activision\", \"Electronic Arts\"], \"marker\": {\"colors\": [\"violet\", \"cornflowerblue\"], \"line\": {\"color\": \"#000000\", \"width\": 2}}, \"name\": \"Sales\", \"type\": \"pie\", \"values\": [3, 2, 2, 1, 1, 1, 1, 1, 1, 1, 1, 1, 1, 1, 1, 1, 1, 1, 1, 1, 1, 1, 1, 1, 1, 1, 1, 1, 1, 1, 1, 1, 1, 1, 1, 1, 1, 1, 1, 1, 1, 1, 1, 1, 1, 1, 1, 1, 1, 1, 1, 1, 1, 1, 1, 1, 1, 1, 1, 1, 1, 1, 1, 1, 1, 1, 1, 1, 1, 1, 1, 1, 1, 1, 1, 1, 1, 1, 1, 1, 1, 1, 1, 1, 1, 1, 1, 1, 1, 1, 1, 1, 1, 1, 1, 1]}],                        {\"paper_bgcolor\": \"rgba(0,0,0,0)\", \"plot_bgcolor\": \"rgba(0,0,0,0)\", \"template\": {\"data\": {\"bar\": [{\"error_x\": {\"color\": \"#2a3f5f\"}, \"error_y\": {\"color\": \"#2a3f5f\"}, \"marker\": {\"line\": {\"color\": \"#E5ECF6\", \"width\": 0.5}}, \"type\": \"bar\"}], \"barpolar\": [{\"marker\": {\"line\": {\"color\": \"#E5ECF6\", \"width\": 0.5}}, \"type\": \"barpolar\"}], \"carpet\": [{\"aaxis\": {\"endlinecolor\": \"#2a3f5f\", \"gridcolor\": \"white\", \"linecolor\": \"white\", \"minorgridcolor\": \"white\", \"startlinecolor\": \"#2a3f5f\"}, \"baxis\": {\"endlinecolor\": \"#2a3f5f\", \"gridcolor\": \"white\", \"linecolor\": \"white\", \"minorgridcolor\": \"white\", \"startlinecolor\": \"#2a3f5f\"}, \"type\": \"carpet\"}], \"choropleth\": [{\"colorbar\": {\"outlinewidth\": 0, \"ticks\": \"\"}, \"type\": \"choropleth\"}], \"contour\": [{\"colorbar\": {\"outlinewidth\": 0, \"ticks\": \"\"}, \"colorscale\": [[0.0, \"#0d0887\"], [0.1111111111111111, \"#46039f\"], [0.2222222222222222, \"#7201a8\"], [0.3333333333333333, \"#9c179e\"], [0.4444444444444444, \"#bd3786\"], [0.5555555555555556, \"#d8576b\"], [0.6666666666666666, \"#ed7953\"], [0.7777777777777778, \"#fb9f3a\"], [0.8888888888888888, \"#fdca26\"], [1.0, \"#f0f921\"]], \"type\": \"contour\"}], \"contourcarpet\": [{\"colorbar\": {\"outlinewidth\": 0, \"ticks\": \"\"}, \"type\": \"contourcarpet\"}], \"heatmap\": [{\"colorbar\": {\"outlinewidth\": 0, \"ticks\": \"\"}, \"colorscale\": [[0.0, \"#0d0887\"], [0.1111111111111111, \"#46039f\"], [0.2222222222222222, \"#7201a8\"], [0.3333333333333333, \"#9c179e\"], [0.4444444444444444, \"#bd3786\"], [0.5555555555555556, \"#d8576b\"], [0.6666666666666666, \"#ed7953\"], [0.7777777777777778, \"#fb9f3a\"], [0.8888888888888888, \"#fdca26\"], [1.0, \"#f0f921\"]], \"type\": \"heatmap\"}], \"heatmapgl\": [{\"colorbar\": {\"outlinewidth\": 0, \"ticks\": \"\"}, \"colorscale\": [[0.0, \"#0d0887\"], [0.1111111111111111, \"#46039f\"], [0.2222222222222222, \"#7201a8\"], [0.3333333333333333, \"#9c179e\"], [0.4444444444444444, \"#bd3786\"], [0.5555555555555556, \"#d8576b\"], [0.6666666666666666, \"#ed7953\"], [0.7777777777777778, \"#fb9f3a\"], [0.8888888888888888, \"#fdca26\"], [1.0, \"#f0f921\"]], \"type\": \"heatmapgl\"}], \"histogram\": [{\"marker\": {\"colorbar\": {\"outlinewidth\": 0, \"ticks\": \"\"}}, \"type\": \"histogram\"}], \"histogram2d\": [{\"colorbar\": {\"outlinewidth\": 0, \"ticks\": \"\"}, \"colorscale\": [[0.0, \"#0d0887\"], [0.1111111111111111, \"#46039f\"], [0.2222222222222222, \"#7201a8\"], [0.3333333333333333, \"#9c179e\"], [0.4444444444444444, \"#bd3786\"], [0.5555555555555556, \"#d8576b\"], [0.6666666666666666, \"#ed7953\"], [0.7777777777777778, \"#fb9f3a\"], [0.8888888888888888, \"#fdca26\"], [1.0, \"#f0f921\"]], \"type\": \"histogram2d\"}], \"histogram2dcontour\": [{\"colorbar\": {\"outlinewidth\": 0, \"ticks\": \"\"}, \"colorscale\": [[0.0, \"#0d0887\"], [0.1111111111111111, \"#46039f\"], [0.2222222222222222, \"#7201a8\"], [0.3333333333333333, \"#9c179e\"], [0.4444444444444444, \"#bd3786\"], [0.5555555555555556, \"#d8576b\"], [0.6666666666666666, \"#ed7953\"], [0.7777777777777778, \"#fb9f3a\"], [0.8888888888888888, \"#fdca26\"], [1.0, \"#f0f921\"]], \"type\": \"histogram2dcontour\"}], \"mesh3d\": [{\"colorbar\": {\"outlinewidth\": 0, \"ticks\": \"\"}, \"type\": \"mesh3d\"}], \"parcoords\": [{\"line\": {\"colorbar\": {\"outlinewidth\": 0, \"ticks\": \"\"}}, \"type\": \"parcoords\"}], \"pie\": [{\"automargin\": true, \"type\": \"pie\"}], \"scatter\": [{\"marker\": {\"colorbar\": {\"outlinewidth\": 0, \"ticks\": \"\"}}, \"type\": \"scatter\"}], \"scatter3d\": [{\"line\": {\"colorbar\": {\"outlinewidth\": 0, \"ticks\": \"\"}}, \"marker\": {\"colorbar\": {\"outlinewidth\": 0, \"ticks\": \"\"}}, \"type\": \"scatter3d\"}], \"scattercarpet\": [{\"marker\": {\"colorbar\": {\"outlinewidth\": 0, \"ticks\": \"\"}}, \"type\": \"scattercarpet\"}], \"scattergeo\": [{\"marker\": {\"colorbar\": {\"outlinewidth\": 0, \"ticks\": \"\"}}, \"type\": \"scattergeo\"}], \"scattergl\": [{\"marker\": {\"colorbar\": {\"outlinewidth\": 0, \"ticks\": \"\"}}, \"type\": \"scattergl\"}], \"scattermapbox\": [{\"marker\": {\"colorbar\": {\"outlinewidth\": 0, \"ticks\": \"\"}}, \"type\": \"scattermapbox\"}], \"scatterpolar\": [{\"marker\": {\"colorbar\": {\"outlinewidth\": 0, \"ticks\": \"\"}}, \"type\": \"scatterpolar\"}], \"scatterpolargl\": [{\"marker\": {\"colorbar\": {\"outlinewidth\": 0, \"ticks\": \"\"}}, \"type\": \"scatterpolargl\"}], \"scatterternary\": [{\"marker\": {\"colorbar\": {\"outlinewidth\": 0, \"ticks\": \"\"}}, \"type\": \"scatterternary\"}], \"surface\": [{\"colorbar\": {\"outlinewidth\": 0, \"ticks\": \"\"}, \"colorscale\": [[0.0, \"#0d0887\"], [0.1111111111111111, \"#46039f\"], [0.2222222222222222, \"#7201a8\"], [0.3333333333333333, \"#9c179e\"], [0.4444444444444444, \"#bd3786\"], [0.5555555555555556, \"#d8576b\"], [0.6666666666666666, \"#ed7953\"], [0.7777777777777778, \"#fb9f3a\"], [0.8888888888888888, \"#fdca26\"], [1.0, \"#f0f921\"]], \"type\": \"surface\"}], \"table\": [{\"cells\": {\"fill\": {\"color\": \"#EBF0F8\"}, \"line\": {\"color\": \"white\"}}, \"header\": {\"fill\": {\"color\": \"#C8D4E3\"}, \"line\": {\"color\": \"white\"}}, \"type\": \"table\"}]}, \"layout\": {\"annotationdefaults\": {\"arrowcolor\": \"#2a3f5f\", \"arrowhead\": 0, \"arrowwidth\": 1}, \"autotypenumbers\": \"strict\", \"coloraxis\": {\"colorbar\": {\"outlinewidth\": 0, \"ticks\": \"\"}}, \"colorscale\": {\"diverging\": [[0, \"#8e0152\"], [0.1, \"#c51b7d\"], [0.2, \"#de77ae\"], [0.3, \"#f1b6da\"], [0.4, \"#fde0ef\"], [0.5, \"#f7f7f7\"], [0.6, \"#e6f5d0\"], [0.7, \"#b8e186\"], [0.8, \"#7fbc41\"], [0.9, \"#4d9221\"], [1, \"#276419\"]], \"sequential\": [[0.0, \"#0d0887\"], [0.1111111111111111, \"#46039f\"], [0.2222222222222222, \"#7201a8\"], [0.3333333333333333, \"#9c179e\"], [0.4444444444444444, \"#bd3786\"], [0.5555555555555556, \"#d8576b\"], [0.6666666666666666, \"#ed7953\"], [0.7777777777777778, \"#fb9f3a\"], [0.8888888888888888, \"#fdca26\"], [1.0, \"#f0f921\"]], \"sequentialminus\": [[0.0, \"#0d0887\"], [0.1111111111111111, \"#46039f\"], [0.2222222222222222, \"#7201a8\"], [0.3333333333333333, \"#9c179e\"], [0.4444444444444444, \"#bd3786\"], [0.5555555555555556, \"#d8576b\"], [0.6666666666666666, \"#ed7953\"], [0.7777777777777778, \"#fb9f3a\"], [0.8888888888888888, \"#fdca26\"], [1.0, \"#f0f921\"]]}, \"colorway\": [\"#636efa\", \"#EF553B\", \"#00cc96\", \"#ab63fa\", \"#FFA15A\", \"#19d3f3\", \"#FF6692\", \"#B6E880\", \"#FF97FF\", \"#FECB52\"], \"font\": {\"color\": \"#2a3f5f\"}, \"geo\": {\"bgcolor\": \"white\", \"lakecolor\": \"white\", \"landcolor\": \"#E5ECF6\", \"showlakes\": true, \"showland\": true, \"subunitcolor\": \"white\"}, \"hoverlabel\": {\"align\": \"left\"}, \"hovermode\": \"closest\", \"mapbox\": {\"style\": \"light\"}, \"paper_bgcolor\": \"white\", \"plot_bgcolor\": \"#E5ECF6\", \"polar\": {\"angularaxis\": {\"gridcolor\": \"white\", \"linecolor\": \"white\", \"ticks\": \"\"}, \"bgcolor\": \"#E5ECF6\", \"radialaxis\": {\"gridcolor\": \"white\", \"linecolor\": \"white\", \"ticks\": \"\"}}, \"scene\": {\"xaxis\": {\"backgroundcolor\": \"#E5ECF6\", \"gridcolor\": \"white\", \"gridwidth\": 2, \"linecolor\": \"white\", \"showbackground\": true, \"ticks\": \"\", \"zerolinecolor\": \"white\"}, \"yaxis\": {\"backgroundcolor\": \"#E5ECF6\", \"gridcolor\": \"white\", \"gridwidth\": 2, \"linecolor\": \"white\", \"showbackground\": true, \"ticks\": \"\", \"zerolinecolor\": \"white\"}, \"zaxis\": {\"backgroundcolor\": \"#E5ECF6\", \"gridcolor\": \"white\", \"gridwidth\": 2, \"linecolor\": \"white\", \"showbackground\": true, \"ticks\": \"\", \"zerolinecolor\": \"white\"}}, \"shapedefaults\": {\"line\": {\"color\": \"#2a3f5f\"}}, \"ternary\": {\"aaxis\": {\"gridcolor\": \"white\", \"linecolor\": \"white\", \"ticks\": \"\"}, \"baxis\": {\"gridcolor\": \"white\", \"linecolor\": \"white\", \"ticks\": \"\"}, \"bgcolor\": \"#E5ECF6\", \"caxis\": {\"gridcolor\": \"white\", \"linecolor\": \"white\", \"ticks\": \"\"}}, \"title\": {\"x\": 0.05}, \"xaxis\": {\"automargin\": true, \"gridcolor\": \"white\", \"linecolor\": \"white\", \"ticks\": \"\", \"title\": {\"standoff\": 15}, \"zerolinecolor\": \"white\", \"zerolinewidth\": 2}, \"yaxis\": {\"automargin\": true, \"gridcolor\": \"white\", \"linecolor\": \"white\", \"ticks\": \"\", \"title\": {\"standoff\": 15}, \"zerolinecolor\": \"white\", \"zerolinewidth\": 2}}}, \"title\": {\"text\": \"Sales w.r.t Publishers\"}},                        {\"responsive\": true}                    ).then(function(){\n",
       "                            \n",
       "var gd = document.getElementById('aea3bf7d-2482-491d-b98e-04a4297605ec');\n",
       "var x = new MutationObserver(function (mutations, observer) {{\n",
       "        var display = window.getComputedStyle(gd).display;\n",
       "        if (!display || display === 'none') {{\n",
       "            console.log([gd, 'removed!']);\n",
       "            Plotly.purge(gd);\n",
       "            observer.disconnect();\n",
       "        }}\n",
       "}});\n",
       "\n",
       "// Listen for the removal of the full notebook cells\n",
       "var notebookContainer = gd.closest('#notebook-container');\n",
       "if (notebookContainer) {{\n",
       "    x.observe(notebookContainer, {childList: true});\n",
       "}}\n",
       "\n",
       "// Listen for the clearing of the current output cell\n",
       "var outputEl = gd.closest('.output');\n",
       "if (outputEl) {{\n",
       "    x.observe(outputEl, {childList: true});\n",
       "}}\n",
       "\n",
       "                        })                };                });            </script>        </div>"
      ]
     },
     "metadata": {},
     "output_type": "display_data"
    }
   ],
   "source": [
    "pie_sale = go.Pie(  \n",
    "   labels =top100['Publisher'],\n",
    "   values = top100['Global_Sales'].value_counts(),\n",
    "   domain=dict(x=[0, 0.5]),\n",
    "   name='Sales',\n",
    "   hole = 0.5,\n",
    "   marker = dict(colors=['violet', 'cornflowerblue'], line=dict(color='#000000', width=2))\n",
    ")\n",
    "data=pie_sale\n",
    "layout = go.Layout(\n",
    "    paper_bgcolor='rgba(0,0,0,0)',\n",
    "    plot_bgcolor='rgba(0,0,0,0)',\n",
    "    title='Sales w.r.t Publishers',\n",
    ")\n",
    "\n",
    "fig = go.Figure(data=data, layout=layout)\n",
    "\n",
    "fig.show()"
   ]
  },
  {
   "cell_type": "markdown",
   "metadata": {},
   "source": [
    "from the above pie chart we can see that Nintendo takes majority (54%) of sales among other platforms followed by 'Activion' and 'Take two interactive'"
   ]
  },
  {
   "cell_type": "markdown",
   "metadata": {},
   "source": [
    "from the above graph we can see that 'Shooter' is the most popular genre among gamers"
   ]
  },
  {
   "cell_type": "code",
   "execution_count": 11,
   "metadata": {},
   "outputs": [
    {
     "data": {
      "application/vnd.plotly.v1+json": {
       "config": {
        "linkText": "Export to plot.ly",
        "plotlyServerURL": "https://plot.ly",
        "showLink": false
       },
       "data": [
        {
         "marker": {
          "color": "red",
          "size": 8
         },
         "mode": "lines+markers",
         "name": "North America",
         "text": [
          "Wii Sports",
          "Super Mario Bros.",
          "Mario Kart Wii",
          "Wii Sports Resort",
          "Pokemon Red/Pokemon Blue",
          "Tetris",
          "New Super Mario Bros.",
          "Wii Play",
          "New Super Mario Bros. Wii",
          "Duck Hunt",
          "Nintendogs",
          "Mario Kart DS",
          "Pokemon Gold/Pokemon Silver",
          "Wii Fit",
          "Wii Fit Plus",
          "Kinect Adventures!",
          "Grand Theft Auto V",
          "Grand Theft Auto: San Andreas",
          "Super Mario World",
          "Brain Age: Train Your Brain in Minutes a Day",
          "Pokemon Diamond/Pokemon Pearl",
          "Super Mario Land",
          "Super Mario Bros. 3",
          "Grand Theft Auto V",
          "Grand Theft Auto: Vice City",
          "Pokemon Ruby/Pokemon Sapphire",
          "Pokemon Black/Pokemon White",
          "Brain Age 2: More Training in Minutes a Day",
          "Gran Turismo 3: A-Spec",
          "Call of Duty: Modern Warfare 3",
          "Pokémon Yellow: Special Pikachu Edition",
          "Call of Duty: Black Ops",
          "Pokemon X/Pokemon Y",
          "Call of Duty: Black Ops 3",
          "Call of Duty: Black Ops II",
          "Call of Duty: Black Ops II",
          "Call of Duty: Modern Warfare 2",
          "Call of Duty: Modern Warfare 3",
          "Grand Theft Auto III",
          "Super Smash Bros. Brawl",
          "Call of Duty: Black Ops",
          "Animal Crossing: Wild World",
          "Mario Kart 7",
          "Halo 3",
          "Grand Theft Auto V",
          "Pokemon HeartGold/Pokemon SoulSilver",
          "Super Mario 64",
          "Gran Turismo 4",
          "Super Mario Galaxy",
          "Pokemon Omega Ruby/Pokemon Alpha Sapphire",
          "Super Mario Land 2: 6 Golden Coins",
          "Grand Theft Auto IV",
          "Gran Turismo",
          "Super Mario 3D Land",
          "Gran Turismo 5",
          "Call of Duty: Modern Warfare 2",
          "Grand Theft Auto IV",
          "Super Mario All-Stars",
          "Pokemon FireRed/Pokemon LeafGreen",
          "Super Mario 64",
          "Just Dance 3",
          "Call of Duty: Ghosts",
          "Halo: Reach",
          "Mario Kart 64",
          "New Super Mario Bros. 2",
          "Halo 4",
          "Final Fantasy VII",
          "Call of Duty: Ghosts",
          "Just Dance 2",
          "Gran Turismo 2",
          "Call of Duty 4: Modern Warfare",
          "Donkey Kong Country",
          "Minecraft",
          "Animal Crossing: New Leaf",
          "Mario Party DS",
          "The Elder Scrolls V: Skyrim",
          "Super Mario Kart",
          "FIFA 16",
          "Wii Party",
          "Halo 2",
          "Mario Party 8",
          "Pokemon Black 2/Pokemon White 2",
          "FIFA Soccer 13",
          "The Sims 3",
          "GoldenEye 007",
          "Mario & Sonic at the Olympic Games",
          "Final Fantasy X",
          "Final Fantasy VIII",
          "Pokémon Platinum Version",
          "Pac-Man",
          "Grand Theft Auto: Liberty City Stories",
          "Super Mario Galaxy 2",
          "Star Wars Battlefront (2015)",
          "Call of Duty: Advanced Warfare",
          "The Legend of Zelda: Ocarina of Time",
          "Crash Bandicoot 2: Cortex Strikes Back",
          "Super Mario Bros. 2",
          "Super Smash Bros. for Wii U and 3DS",
          "Call of Duty: World at War",
          "Battlefield 3"
         ],
         "type": "scatter",
         "x": [
          1,
          2,
          3,
          4,
          5,
          6,
          7,
          8,
          9,
          10,
          11,
          12,
          13,
          14,
          15,
          16,
          17,
          18,
          19,
          20,
          21,
          22,
          23,
          24,
          25,
          26,
          27,
          28,
          29,
          30,
          31,
          32,
          33,
          34,
          35,
          36,
          37,
          38,
          39,
          40,
          41,
          42,
          43,
          44,
          45,
          46,
          47,
          48,
          49,
          50,
          51,
          52,
          53,
          54,
          55,
          56,
          57,
          58,
          59,
          60,
          61,
          62,
          63,
          64,
          65,
          66,
          67,
          68,
          69,
          70,
          71,
          72,
          73,
          74,
          75,
          76,
          77,
          78,
          79,
          80,
          81,
          82,
          83,
          84,
          85,
          86,
          87,
          88,
          89,
          90,
          91,
          92,
          93,
          94,
          95,
          96,
          97,
          98,
          99,
          100
         ],
         "y": [
          41.49,
          29.08,
          15.85,
          15.75,
          11.27,
          23.2,
          11.38,
          14.03,
          14.59,
          26.93,
          9.07,
          9.81,
          9,
          8.94,
          9.09,
          14.97,
          7.01,
          9.43,
          12.78,
          4.75,
          6.42,
          10.83,
          9.54,
          9.63,
          8.41,
          6.06,
          5.57,
          3.44,
          6.85,
          9.03,
          5.89,
          9.67,
          5.17,
          5.77,
          4.99,
          8.25,
          8.52,
          5.54,
          6.99,
          6.75,
          5.98,
          2.55,
          4.74,
          7.97,
          3.8,
          4.4,
          6.91,
          3.01,
          6.16,
          4.23,
          6.16,
          6.76,
          4.02,
          4.89,
          2.96,
          4.99,
          4.76,
          5.99,
          4.34,
          5.08,
          6.05,
          6.72,
          7.03,
          5.55,
          3.66,
          6.63,
          3.01,
          4.09,
          5.84,
          3.88,
          5.91,
          4.36,
          5.58,
          2.01,
          4.46,
          5.03,
          3.54,
          1.11,
          1.79,
          6.82,
          3.81,
          2.91,
          1.06,
          0.98,
          5.8,
          2.58,
          2.91,
          2.28,
          2.82,
          7.28,
          2.9,
          3.66,
          2.93,
          2.8,
          4.1,
          3.78,
          5.39,
          3.24,
          4.79,
          4.46
         ]
        },
        {
         "marker": {
          "color": "cyan",
          "size": 8
         },
         "mode": "lines+markers",
         "name": "Europe",
         "text": [
          "Wii Sports",
          "Super Mario Bros.",
          "Mario Kart Wii",
          "Wii Sports Resort",
          "Pokemon Red/Pokemon Blue",
          "Tetris",
          "New Super Mario Bros.",
          "Wii Play",
          "New Super Mario Bros. Wii",
          "Duck Hunt",
          "Nintendogs",
          "Mario Kart DS",
          "Pokemon Gold/Pokemon Silver",
          "Wii Fit",
          "Wii Fit Plus",
          "Kinect Adventures!",
          "Grand Theft Auto V",
          "Grand Theft Auto: San Andreas",
          "Super Mario World",
          "Brain Age: Train Your Brain in Minutes a Day",
          "Pokemon Diamond/Pokemon Pearl",
          "Super Mario Land",
          "Super Mario Bros. 3",
          "Grand Theft Auto V",
          "Grand Theft Auto: Vice City",
          "Pokemon Ruby/Pokemon Sapphire",
          "Pokemon Black/Pokemon White",
          "Brain Age 2: More Training in Minutes a Day",
          "Gran Turismo 3: A-Spec",
          "Call of Duty: Modern Warfare 3",
          "Pokémon Yellow: Special Pikachu Edition",
          "Call of Duty: Black Ops",
          "Pokemon X/Pokemon Y",
          "Call of Duty: Black Ops 3",
          "Call of Duty: Black Ops II",
          "Call of Duty: Black Ops II",
          "Call of Duty: Modern Warfare 2",
          "Call of Duty: Modern Warfare 3",
          "Grand Theft Auto III",
          "Super Smash Bros. Brawl",
          "Call of Duty: Black Ops",
          "Animal Crossing: Wild World",
          "Mario Kart 7",
          "Halo 3",
          "Grand Theft Auto V",
          "Pokemon HeartGold/Pokemon SoulSilver",
          "Super Mario 64",
          "Gran Turismo 4",
          "Super Mario Galaxy",
          "Pokemon Omega Ruby/Pokemon Alpha Sapphire",
          "Super Mario Land 2: 6 Golden Coins",
          "Grand Theft Auto IV",
          "Gran Turismo",
          "Super Mario 3D Land",
          "Gran Turismo 5",
          "Call of Duty: Modern Warfare 2",
          "Grand Theft Auto IV",
          "Super Mario All-Stars",
          "Pokemon FireRed/Pokemon LeafGreen",
          "Super Mario 64",
          "Just Dance 3",
          "Call of Duty: Ghosts",
          "Halo: Reach",
          "Mario Kart 64",
          "New Super Mario Bros. 2",
          "Halo 4",
          "Final Fantasy VII",
          "Call of Duty: Ghosts",
          "Just Dance 2",
          "Gran Turismo 2",
          "Call of Duty 4: Modern Warfare",
          "Donkey Kong Country",
          "Minecraft",
          "Animal Crossing: New Leaf",
          "Mario Party DS",
          "The Elder Scrolls V: Skyrim",
          "Super Mario Kart",
          "FIFA 16",
          "Wii Party",
          "Halo 2",
          "Mario Party 8",
          "Pokemon Black 2/Pokemon White 2",
          "FIFA Soccer 13",
          "The Sims 3",
          "GoldenEye 007",
          "Mario & Sonic at the Olympic Games",
          "Final Fantasy X",
          "Final Fantasy VIII",
          "Pokémon Platinum Version",
          "Pac-Man",
          "Grand Theft Auto: Liberty City Stories",
          "Super Mario Galaxy 2",
          "Star Wars Battlefront (2015)",
          "Call of Duty: Advanced Warfare",
          "The Legend of Zelda: Ocarina of Time",
          "Crash Bandicoot 2: Cortex Strikes Back",
          "Super Mario Bros. 2",
          "Super Smash Bros. for Wii U and 3DS",
          "Call of Duty: World at War",
          "Battlefield 3"
         ],
         "type": "scatter",
         "x": [
          1,
          2,
          3,
          4,
          5,
          6,
          7,
          8,
          9,
          10,
          11,
          12,
          13,
          14,
          15,
          16,
          17,
          18,
          19,
          20,
          21,
          22,
          23,
          24,
          25,
          26,
          27,
          28,
          29,
          30,
          31,
          32,
          33,
          34,
          35,
          36,
          37,
          38,
          39,
          40,
          41,
          42,
          43,
          44,
          45,
          46,
          47,
          48,
          49,
          50,
          51,
          52,
          53,
          54,
          55,
          56,
          57,
          58,
          59,
          60,
          61,
          62,
          63,
          64,
          65,
          66,
          67,
          68,
          69,
          70,
          71,
          72,
          73,
          74,
          75,
          76,
          77,
          78,
          79,
          80,
          81,
          82,
          83,
          84,
          85,
          86,
          87,
          88,
          89,
          90,
          91,
          92,
          93,
          94,
          95,
          96,
          97,
          98,
          99,
          100
         ],
         "y": [
          29.02,
          3.58,
          12.88,
          11.01,
          8.89,
          2.26,
          9.23,
          9.2,
          7.06,
          0.63,
          11,
          7.57,
          6.18,
          8.03,
          8.59,
          4.94,
          9.27,
          0.4,
          3.75,
          9.26,
          4.52,
          2.71,
          3.44,
          5.31,
          5.49,
          3.9,
          3.28,
          5.36,
          5.09,
          4.28,
          5.04,
          3.73,
          4.05,
          5.81,
          5.88,
          4.3,
          3.63,
          5.82,
          4.51,
          2.61,
          4.44,
          3.52,
          3.91,
          2.83,
          5.81,
          2.77,
          2.85,
          0.01,
          3.4,
          3.37,
          2.04,
          3.1,
          3.87,
          2.99,
          4.88,
          3.69,
          3.76,
          2.15,
          2.65,
          3.11,
          3.15,
          2.63,
          1.98,
          1.94,
          3.07,
          2.36,
          2.47,
          3.73,
          2.89,
          3.42,
          2.38,
          1.71,
          2.83,
          2.32,
          1.88,
          2.86,
          1.24,
          6.06,
          3.53,
          1.53,
          2.3,
          1.86,
          5.05,
          6.42,
          2.01,
          3.9,
          2.07,
          1.72,
          1.78,
          0.45,
          2.83,
          2.42,
          3.29,
          3.3,
          1.89,
          2.17,
          1.18,
          1.35,
          1.9,
          2.13
         ]
        },
        {
         "marker": {
          "color": "blue",
          "size": 8
         },
         "mode": "lines+markers",
         "name": "Japan",
         "text": [
          "Wii Sports",
          "Super Mario Bros.",
          "Mario Kart Wii",
          "Wii Sports Resort",
          "Pokemon Red/Pokemon Blue",
          "Tetris",
          "New Super Mario Bros.",
          "Wii Play",
          "New Super Mario Bros. Wii",
          "Duck Hunt",
          "Nintendogs",
          "Mario Kart DS",
          "Pokemon Gold/Pokemon Silver",
          "Wii Fit",
          "Wii Fit Plus",
          "Kinect Adventures!",
          "Grand Theft Auto V",
          "Grand Theft Auto: San Andreas",
          "Super Mario World",
          "Brain Age: Train Your Brain in Minutes a Day",
          "Pokemon Diamond/Pokemon Pearl",
          "Super Mario Land",
          "Super Mario Bros. 3",
          "Grand Theft Auto V",
          "Grand Theft Auto: Vice City",
          "Pokemon Ruby/Pokemon Sapphire",
          "Pokemon Black/Pokemon White",
          "Brain Age 2: More Training in Minutes a Day",
          "Gran Turismo 3: A-Spec",
          "Call of Duty: Modern Warfare 3",
          "Pokémon Yellow: Special Pikachu Edition",
          "Call of Duty: Black Ops",
          "Pokemon X/Pokemon Y",
          "Call of Duty: Black Ops 3",
          "Call of Duty: Black Ops II",
          "Call of Duty: Black Ops II",
          "Call of Duty: Modern Warfare 2",
          "Call of Duty: Modern Warfare 3",
          "Grand Theft Auto III",
          "Super Smash Bros. Brawl",
          "Call of Duty: Black Ops",
          "Animal Crossing: Wild World",
          "Mario Kart 7",
          "Halo 3",
          "Grand Theft Auto V",
          "Pokemon HeartGold/Pokemon SoulSilver",
          "Super Mario 64",
          "Gran Turismo 4",
          "Super Mario Galaxy",
          "Pokemon Omega Ruby/Pokemon Alpha Sapphire",
          "Super Mario Land 2: 6 Golden Coins",
          "Grand Theft Auto IV",
          "Gran Turismo",
          "Super Mario 3D Land",
          "Gran Turismo 5",
          "Call of Duty: Modern Warfare 2",
          "Grand Theft Auto IV",
          "Super Mario All-Stars",
          "Pokemon FireRed/Pokemon LeafGreen",
          "Super Mario 64",
          "Just Dance 3",
          "Call of Duty: Ghosts",
          "Halo: Reach",
          "Mario Kart 64",
          "New Super Mario Bros. 2",
          "Halo 4",
          "Final Fantasy VII",
          "Call of Duty: Ghosts",
          "Just Dance 2",
          "Gran Turismo 2",
          "Call of Duty 4: Modern Warfare",
          "Donkey Kong Country",
          "Minecraft",
          "Animal Crossing: New Leaf",
          "Mario Party DS",
          "The Elder Scrolls V: Skyrim",
          "Super Mario Kart",
          "FIFA 16",
          "Wii Party",
          "Halo 2",
          "Mario Party 8",
          "Pokemon Black 2/Pokemon White 2",
          "FIFA Soccer 13",
          "The Sims 3",
          "GoldenEye 007",
          "Mario & Sonic at the Olympic Games",
          "Final Fantasy X",
          "Final Fantasy VIII",
          "Pokémon Platinum Version",
          "Pac-Man",
          "Grand Theft Auto: Liberty City Stories",
          "Super Mario Galaxy 2",
          "Star Wars Battlefront (2015)",
          "Call of Duty: Advanced Warfare",
          "The Legend of Zelda: Ocarina of Time",
          "Crash Bandicoot 2: Cortex Strikes Back",
          "Super Mario Bros. 2",
          "Super Smash Bros. for Wii U and 3DS",
          "Call of Duty: World at War",
          "Battlefield 3"
         ],
         "type": "scatter",
         "x": [
          1,
          2,
          3,
          4,
          5,
          6,
          7,
          8,
          9,
          10,
          11,
          12,
          13,
          14,
          15,
          16,
          17,
          18,
          19,
          20,
          21,
          22,
          23,
          24,
          25,
          26,
          27,
          28,
          29,
          30,
          31,
          32,
          33,
          34,
          35,
          36,
          37,
          38,
          39,
          40,
          41,
          42,
          43,
          44,
          45,
          46,
          47,
          48,
          49,
          50,
          51,
          52,
          53,
          54,
          55,
          56,
          57,
          58,
          59,
          60,
          61,
          62,
          63,
          64,
          65,
          66,
          67,
          68,
          69,
          70,
          71,
          72,
          73,
          74,
          75,
          76,
          77,
          78,
          79,
          80,
          81,
          82,
          83,
          84,
          85,
          86,
          87,
          88,
          89,
          90,
          91,
          92,
          93,
          94,
          95,
          96,
          97,
          98,
          99,
          100
         ],
         "y": [
          3.77,
          6.81,
          3.79,
          3.28,
          10.22,
          4.22,
          6.5,
          2.93,
          4.7,
          0.28,
          1.93,
          4.13,
          7.2,
          3.6,
          2.53,
          0.24,
          0.97,
          0.41,
          3.54,
          4.16,
          6.04,
          4.18,
          3.84,
          0.06,
          0.47,
          5.38,
          5.65,
          5.32,
          1.87,
          0.13,
          3.12,
          0.11,
          4.34,
          0.35,
          0.65,
          0.07,
          0.08,
          0.49,
          0.3,
          2.66,
          0.48,
          5.33,
          2.67,
          0.13,
          0.36,
          3.96,
          1.91,
          1.1,
          1.2,
          3.08,
          2.69,
          0.14,
          2.54,
          2.13,
          0.81,
          0.38,
          0.44,
          2.12,
          3.15,
          1.25,
          0,
          0.04,
          0.08,
          2.23,
          2.47,
          0.04,
          3.28,
          0.38,
          0.01,
          1.69,
          0.13,
          3,
          0.02,
          4.36,
          1.98,
          0.1,
          3.81,
          0.06,
          2.49,
          0.05,
          1.58,
          3.14,
          0.13,
          0,
          0.13,
          0.66,
          2.73,
          3.63,
          2.69,
          0,
          0.24,
          0.98,
          0.22,
          0.14,
          1.45,
          1.31,
          0.7,
          2.42,
          0,
          0.06
         ]
        },
        {
         "marker": {
          "color": "green",
          "size": 8
         },
         "mode": "lines+markers",
         "name": "Other",
         "text": [
          "Wii Sports",
          "Super Mario Bros.",
          "Mario Kart Wii",
          "Wii Sports Resort",
          "Pokemon Red/Pokemon Blue",
          "Tetris",
          "New Super Mario Bros.",
          "Wii Play",
          "New Super Mario Bros. Wii",
          "Duck Hunt",
          "Nintendogs",
          "Mario Kart DS",
          "Pokemon Gold/Pokemon Silver",
          "Wii Fit",
          "Wii Fit Plus",
          "Kinect Adventures!",
          "Grand Theft Auto V",
          "Grand Theft Auto: San Andreas",
          "Super Mario World",
          "Brain Age: Train Your Brain in Minutes a Day",
          "Pokemon Diamond/Pokemon Pearl",
          "Super Mario Land",
          "Super Mario Bros. 3",
          "Grand Theft Auto V",
          "Grand Theft Auto: Vice City",
          "Pokemon Ruby/Pokemon Sapphire",
          "Pokemon Black/Pokemon White",
          "Brain Age 2: More Training in Minutes a Day",
          "Gran Turismo 3: A-Spec",
          "Call of Duty: Modern Warfare 3",
          "Pokémon Yellow: Special Pikachu Edition",
          "Call of Duty: Black Ops",
          "Pokemon X/Pokemon Y",
          "Call of Duty: Black Ops 3",
          "Call of Duty: Black Ops II",
          "Call of Duty: Black Ops II",
          "Call of Duty: Modern Warfare 2",
          "Call of Duty: Modern Warfare 3",
          "Grand Theft Auto III",
          "Super Smash Bros. Brawl",
          "Call of Duty: Black Ops",
          "Animal Crossing: Wild World",
          "Mario Kart 7",
          "Halo 3",
          "Grand Theft Auto V",
          "Pokemon HeartGold/Pokemon SoulSilver",
          "Super Mario 64",
          "Gran Turismo 4",
          "Super Mario Galaxy",
          "Pokemon Omega Ruby/Pokemon Alpha Sapphire",
          "Super Mario Land 2: 6 Golden Coins",
          "Grand Theft Auto IV",
          "Gran Turismo",
          "Super Mario 3D Land",
          "Gran Turismo 5",
          "Call of Duty: Modern Warfare 2",
          "Grand Theft Auto IV",
          "Super Mario All-Stars",
          "Pokemon FireRed/Pokemon LeafGreen",
          "Super Mario 64",
          "Just Dance 3",
          "Call of Duty: Ghosts",
          "Halo: Reach",
          "Mario Kart 64",
          "New Super Mario Bros. 2",
          "Halo 4",
          "Final Fantasy VII",
          "Call of Duty: Ghosts",
          "Just Dance 2",
          "Gran Turismo 2",
          "Call of Duty 4: Modern Warfare",
          "Donkey Kong Country",
          "Minecraft",
          "Animal Crossing: New Leaf",
          "Mario Party DS",
          "The Elder Scrolls V: Skyrim",
          "Super Mario Kart",
          "FIFA 16",
          "Wii Party",
          "Halo 2",
          "Mario Party 8",
          "Pokemon Black 2/Pokemon White 2",
          "FIFA Soccer 13",
          "The Sims 3",
          "GoldenEye 007",
          "Mario & Sonic at the Olympic Games",
          "Final Fantasy X",
          "Final Fantasy VIII",
          "Pokémon Platinum Version",
          "Pac-Man",
          "Grand Theft Auto: Liberty City Stories",
          "Super Mario Galaxy 2",
          "Star Wars Battlefront (2015)",
          "Call of Duty: Advanced Warfare",
          "The Legend of Zelda: Ocarina of Time",
          "Crash Bandicoot 2: Cortex Strikes Back",
          "Super Mario Bros. 2",
          "Super Smash Bros. for Wii U and 3DS",
          "Call of Duty: World at War",
          "Battlefield 3"
         ],
         "type": "scatter",
         "x": [
          1,
          2,
          3,
          4,
          5,
          6,
          7,
          8,
          9,
          10,
          11,
          12,
          13,
          14,
          15,
          16,
          17,
          18,
          19,
          20,
          21,
          22,
          23,
          24,
          25,
          26,
          27,
          28,
          29,
          30,
          31,
          32,
          33,
          34,
          35,
          36,
          37,
          38,
          39,
          40,
          41,
          42,
          43,
          44,
          45,
          46,
          47,
          48,
          49,
          50,
          51,
          52,
          53,
          54,
          55,
          56,
          57,
          58,
          59,
          60,
          61,
          62,
          63,
          64,
          65,
          66,
          67,
          68,
          69,
          70,
          71,
          72,
          73,
          74,
          75,
          76,
          77,
          78,
          79,
          80,
          81,
          82,
          83,
          84,
          85,
          86,
          87,
          88,
          89,
          90,
          91,
          92,
          93,
          94,
          95,
          96,
          97,
          98,
          99,
          100
         ],
         "y": [
          8.46,
          0.77,
          3.31,
          2.96,
          1,
          0.58,
          2.9,
          2.85,
          2.26,
          0.47,
          2.75,
          1.92,
          0.71,
          2.15,
          1.79,
          1.67,
          4.14,
          10.57,
          0.55,
          2.05,
          1.37,
          0.42,
          0.46,
          1.38,
          1.78,
          0.5,
          0.82,
          1.18,
          1.16,
          1.32,
          0.59,
          1.13,
          0.79,
          2.31,
          2.52,
          1.12,
          1.29,
          1.62,
          1.3,
          1.02,
          1.83,
          0.88,
          0.89,
          1.21,
          2.02,
          0.77,
          0.23,
          7.53,
          0.76,
          0.65,
          0.29,
          1.03,
          0.52,
          0.78,
          2.12,
          1.63,
          1.62,
          0.29,
          0.35,
          0.98,
          1.07,
          0.82,
          0.78,
          0.15,
          0.63,
          0.73,
          0.96,
          1.38,
          0.78,
          0.5,
          0.9,
          0.23,
          0.77,
          0.41,
          0.7,
          0.85,
          0.18,
          1.26,
          0.68,
          0.08,
          0.73,
          0.43,
          2.01,
          0.71,
          0.15,
          0.91,
          0.33,
          0.23,
          0.55,
          0.08,
          1.75,
          0.64,
          1.23,
          1.37,
          0.16,
          0.31,
          0.19,
          0.43,
          0.69,
          0.69
         ]
        }
       ],
       "layout": {
        "plot_bgcolor": "light yellow",
        "template": {
         "data": {
          "bar": [
           {
            "error_x": {
             "color": "#2a3f5f"
            },
            "error_y": {
             "color": "#2a3f5f"
            },
            "marker": {
             "line": {
              "color": "#E5ECF6",
              "width": 0.5
             }
            },
            "type": "bar"
           }
          ],
          "barpolar": [
           {
            "marker": {
             "line": {
              "color": "#E5ECF6",
              "width": 0.5
             }
            },
            "type": "barpolar"
           }
          ],
          "carpet": [
           {
            "aaxis": {
             "endlinecolor": "#2a3f5f",
             "gridcolor": "white",
             "linecolor": "white",
             "minorgridcolor": "white",
             "startlinecolor": "#2a3f5f"
            },
            "baxis": {
             "endlinecolor": "#2a3f5f",
             "gridcolor": "white",
             "linecolor": "white",
             "minorgridcolor": "white",
             "startlinecolor": "#2a3f5f"
            },
            "type": "carpet"
           }
          ],
          "choropleth": [
           {
            "colorbar": {
             "outlinewidth": 0,
             "ticks": ""
            },
            "type": "choropleth"
           }
          ],
          "contour": [
           {
            "colorbar": {
             "outlinewidth": 0,
             "ticks": ""
            },
            "colorscale": [
             [
              0,
              "#0d0887"
             ],
             [
              0.1111111111111111,
              "#46039f"
             ],
             [
              0.2222222222222222,
              "#7201a8"
             ],
             [
              0.3333333333333333,
              "#9c179e"
             ],
             [
              0.4444444444444444,
              "#bd3786"
             ],
             [
              0.5555555555555556,
              "#d8576b"
             ],
             [
              0.6666666666666666,
              "#ed7953"
             ],
             [
              0.7777777777777778,
              "#fb9f3a"
             ],
             [
              0.8888888888888888,
              "#fdca26"
             ],
             [
              1,
              "#f0f921"
             ]
            ],
            "type": "contour"
           }
          ],
          "contourcarpet": [
           {
            "colorbar": {
             "outlinewidth": 0,
             "ticks": ""
            },
            "type": "contourcarpet"
           }
          ],
          "heatmap": [
           {
            "colorbar": {
             "outlinewidth": 0,
             "ticks": ""
            },
            "colorscale": [
             [
              0,
              "#0d0887"
             ],
             [
              0.1111111111111111,
              "#46039f"
             ],
             [
              0.2222222222222222,
              "#7201a8"
             ],
             [
              0.3333333333333333,
              "#9c179e"
             ],
             [
              0.4444444444444444,
              "#bd3786"
             ],
             [
              0.5555555555555556,
              "#d8576b"
             ],
             [
              0.6666666666666666,
              "#ed7953"
             ],
             [
              0.7777777777777778,
              "#fb9f3a"
             ],
             [
              0.8888888888888888,
              "#fdca26"
             ],
             [
              1,
              "#f0f921"
             ]
            ],
            "type": "heatmap"
           }
          ],
          "heatmapgl": [
           {
            "colorbar": {
             "outlinewidth": 0,
             "ticks": ""
            },
            "colorscale": [
             [
              0,
              "#0d0887"
             ],
             [
              0.1111111111111111,
              "#46039f"
             ],
             [
              0.2222222222222222,
              "#7201a8"
             ],
             [
              0.3333333333333333,
              "#9c179e"
             ],
             [
              0.4444444444444444,
              "#bd3786"
             ],
             [
              0.5555555555555556,
              "#d8576b"
             ],
             [
              0.6666666666666666,
              "#ed7953"
             ],
             [
              0.7777777777777778,
              "#fb9f3a"
             ],
             [
              0.8888888888888888,
              "#fdca26"
             ],
             [
              1,
              "#f0f921"
             ]
            ],
            "type": "heatmapgl"
           }
          ],
          "histogram": [
           {
            "marker": {
             "colorbar": {
              "outlinewidth": 0,
              "ticks": ""
             }
            },
            "type": "histogram"
           }
          ],
          "histogram2d": [
           {
            "colorbar": {
             "outlinewidth": 0,
             "ticks": ""
            },
            "colorscale": [
             [
              0,
              "#0d0887"
             ],
             [
              0.1111111111111111,
              "#46039f"
             ],
             [
              0.2222222222222222,
              "#7201a8"
             ],
             [
              0.3333333333333333,
              "#9c179e"
             ],
             [
              0.4444444444444444,
              "#bd3786"
             ],
             [
              0.5555555555555556,
              "#d8576b"
             ],
             [
              0.6666666666666666,
              "#ed7953"
             ],
             [
              0.7777777777777778,
              "#fb9f3a"
             ],
             [
              0.8888888888888888,
              "#fdca26"
             ],
             [
              1,
              "#f0f921"
             ]
            ],
            "type": "histogram2d"
           }
          ],
          "histogram2dcontour": [
           {
            "colorbar": {
             "outlinewidth": 0,
             "ticks": ""
            },
            "colorscale": [
             [
              0,
              "#0d0887"
             ],
             [
              0.1111111111111111,
              "#46039f"
             ],
             [
              0.2222222222222222,
              "#7201a8"
             ],
             [
              0.3333333333333333,
              "#9c179e"
             ],
             [
              0.4444444444444444,
              "#bd3786"
             ],
             [
              0.5555555555555556,
              "#d8576b"
             ],
             [
              0.6666666666666666,
              "#ed7953"
             ],
             [
              0.7777777777777778,
              "#fb9f3a"
             ],
             [
              0.8888888888888888,
              "#fdca26"
             ],
             [
              1,
              "#f0f921"
             ]
            ],
            "type": "histogram2dcontour"
           }
          ],
          "mesh3d": [
           {
            "colorbar": {
             "outlinewidth": 0,
             "ticks": ""
            },
            "type": "mesh3d"
           }
          ],
          "parcoords": [
           {
            "line": {
             "colorbar": {
              "outlinewidth": 0,
              "ticks": ""
             }
            },
            "type": "parcoords"
           }
          ],
          "pie": [
           {
            "automargin": true,
            "type": "pie"
           }
          ],
          "scatter": [
           {
            "marker": {
             "colorbar": {
              "outlinewidth": 0,
              "ticks": ""
             }
            },
            "type": "scatter"
           }
          ],
          "scatter3d": [
           {
            "line": {
             "colorbar": {
              "outlinewidth": 0,
              "ticks": ""
             }
            },
            "marker": {
             "colorbar": {
              "outlinewidth": 0,
              "ticks": ""
             }
            },
            "type": "scatter3d"
           }
          ],
          "scattercarpet": [
           {
            "marker": {
             "colorbar": {
              "outlinewidth": 0,
              "ticks": ""
             }
            },
            "type": "scattercarpet"
           }
          ],
          "scattergeo": [
           {
            "marker": {
             "colorbar": {
              "outlinewidth": 0,
              "ticks": ""
             }
            },
            "type": "scattergeo"
           }
          ],
          "scattergl": [
           {
            "marker": {
             "colorbar": {
              "outlinewidth": 0,
              "ticks": ""
             }
            },
            "type": "scattergl"
           }
          ],
          "scattermapbox": [
           {
            "marker": {
             "colorbar": {
              "outlinewidth": 0,
              "ticks": ""
             }
            },
            "type": "scattermapbox"
           }
          ],
          "scatterpolar": [
           {
            "marker": {
             "colorbar": {
              "outlinewidth": 0,
              "ticks": ""
             }
            },
            "type": "scatterpolar"
           }
          ],
          "scatterpolargl": [
           {
            "marker": {
             "colorbar": {
              "outlinewidth": 0,
              "ticks": ""
             }
            },
            "type": "scatterpolargl"
           }
          ],
          "scatterternary": [
           {
            "marker": {
             "colorbar": {
              "outlinewidth": 0,
              "ticks": ""
             }
            },
            "type": "scatterternary"
           }
          ],
          "surface": [
           {
            "colorbar": {
             "outlinewidth": 0,
             "ticks": ""
            },
            "colorscale": [
             [
              0,
              "#0d0887"
             ],
             [
              0.1111111111111111,
              "#46039f"
             ],
             [
              0.2222222222222222,
              "#7201a8"
             ],
             [
              0.3333333333333333,
              "#9c179e"
             ],
             [
              0.4444444444444444,
              "#bd3786"
             ],
             [
              0.5555555555555556,
              "#d8576b"
             ],
             [
              0.6666666666666666,
              "#ed7953"
             ],
             [
              0.7777777777777778,
              "#fb9f3a"
             ],
             [
              0.8888888888888888,
              "#fdca26"
             ],
             [
              1,
              "#f0f921"
             ]
            ],
            "type": "surface"
           }
          ],
          "table": [
           {
            "cells": {
             "fill": {
              "color": "#EBF0F8"
             },
             "line": {
              "color": "white"
             }
            },
            "header": {
             "fill": {
              "color": "#C8D4E3"
             },
             "line": {
              "color": "white"
             }
            },
            "type": "table"
           }
          ]
         },
         "layout": {
          "annotationdefaults": {
           "arrowcolor": "#2a3f5f",
           "arrowhead": 0,
           "arrowwidth": 1
          },
          "autotypenumbers": "strict",
          "coloraxis": {
           "colorbar": {
            "outlinewidth": 0,
            "ticks": ""
           }
          },
          "colorscale": {
           "diverging": [
            [
             0,
             "#8e0152"
            ],
            [
             0.1,
             "#c51b7d"
            ],
            [
             0.2,
             "#de77ae"
            ],
            [
             0.3,
             "#f1b6da"
            ],
            [
             0.4,
             "#fde0ef"
            ],
            [
             0.5,
             "#f7f7f7"
            ],
            [
             0.6,
             "#e6f5d0"
            ],
            [
             0.7,
             "#b8e186"
            ],
            [
             0.8,
             "#7fbc41"
            ],
            [
             0.9,
             "#4d9221"
            ],
            [
             1,
             "#276419"
            ]
           ],
           "sequential": [
            [
             0,
             "#0d0887"
            ],
            [
             0.1111111111111111,
             "#46039f"
            ],
            [
             0.2222222222222222,
             "#7201a8"
            ],
            [
             0.3333333333333333,
             "#9c179e"
            ],
            [
             0.4444444444444444,
             "#bd3786"
            ],
            [
             0.5555555555555556,
             "#d8576b"
            ],
            [
             0.6666666666666666,
             "#ed7953"
            ],
            [
             0.7777777777777778,
             "#fb9f3a"
            ],
            [
             0.8888888888888888,
             "#fdca26"
            ],
            [
             1,
             "#f0f921"
            ]
           ],
           "sequentialminus": [
            [
             0,
             "#0d0887"
            ],
            [
             0.1111111111111111,
             "#46039f"
            ],
            [
             0.2222222222222222,
             "#7201a8"
            ],
            [
             0.3333333333333333,
             "#9c179e"
            ],
            [
             0.4444444444444444,
             "#bd3786"
            ],
            [
             0.5555555555555556,
             "#d8576b"
            ],
            [
             0.6666666666666666,
             "#ed7953"
            ],
            [
             0.7777777777777778,
             "#fb9f3a"
            ],
            [
             0.8888888888888888,
             "#fdca26"
            ],
            [
             1,
             "#f0f921"
            ]
           ]
          },
          "colorway": [
           "#636efa",
           "#EF553B",
           "#00cc96",
           "#ab63fa",
           "#FFA15A",
           "#19d3f3",
           "#FF6692",
           "#B6E880",
           "#FF97FF",
           "#FECB52"
          ],
          "font": {
           "color": "#2a3f5f"
          },
          "geo": {
           "bgcolor": "white",
           "lakecolor": "white",
           "landcolor": "#E5ECF6",
           "showlakes": true,
           "showland": true,
           "subunitcolor": "white"
          },
          "hoverlabel": {
           "align": "left"
          },
          "hovermode": "closest",
          "mapbox": {
           "style": "light"
          },
          "paper_bgcolor": "white",
          "plot_bgcolor": "#E5ECF6",
          "polar": {
           "angularaxis": {
            "gridcolor": "white",
            "linecolor": "white",
            "ticks": ""
           },
           "bgcolor": "#E5ECF6",
           "radialaxis": {
            "gridcolor": "white",
            "linecolor": "white",
            "ticks": ""
           }
          },
          "scene": {
           "xaxis": {
            "backgroundcolor": "#E5ECF6",
            "gridcolor": "white",
            "gridwidth": 2,
            "linecolor": "white",
            "showbackground": true,
            "ticks": "",
            "zerolinecolor": "white"
           },
           "yaxis": {
            "backgroundcolor": "#E5ECF6",
            "gridcolor": "white",
            "gridwidth": 2,
            "linecolor": "white",
            "showbackground": true,
            "ticks": "",
            "zerolinecolor": "white"
           },
           "zaxis": {
            "backgroundcolor": "#E5ECF6",
            "gridcolor": "white",
            "gridwidth": 2,
            "linecolor": "white",
            "showbackground": true,
            "ticks": "",
            "zerolinecolor": "white"
           }
          },
          "shapedefaults": {
           "line": {
            "color": "#2a3f5f"
           }
          },
          "ternary": {
           "aaxis": {
            "gridcolor": "white",
            "linecolor": "white",
            "ticks": ""
           },
           "baxis": {
            "gridcolor": "white",
            "linecolor": "white",
            "ticks": ""
           },
           "bgcolor": "#E5ECF6",
           "caxis": {
            "gridcolor": "white",
            "linecolor": "white",
            "ticks": ""
           }
          },
          "title": {
           "x": 0.05
          },
          "xaxis": {
           "automargin": true,
           "gridcolor": "white",
           "linecolor": "white",
           "ticks": "",
           "title": {
            "standoff": 15
           },
           "zerolinecolor": "white",
           "zerolinewidth": 2
          },
          "yaxis": {
           "automargin": true,
           "gridcolor": "white",
           "linecolor": "white",
           "ticks": "",
           "title": {
            "standoff": 15
           },
           "zerolinecolor": "white",
           "zerolinewidth": 2
          }
         }
        },
        "title": {
         "text": "North America, Europe, Japan and Other Sales of Top 100 Video Games"
        },
        "xaxis": {
         "gridcolor": "black",
         "title": {
          "text": "Rank"
         }
        },
        "yaxis": {
         "gridcolor": "black",
         "title": {
          "text": "Sales(In Millions)"
         }
        }
       }
      },
      "text/html": [
       "<div>                            <div id=\"5c55617a-a4bf-4211-8709-7fb23c882618\" class=\"plotly-graph-div\" style=\"height:525px; width:100%;\"></div>            <script type=\"text/javascript\">                require([\"plotly\"], function(Plotly) {                    window.PLOTLYENV=window.PLOTLYENV || {};                                    if (document.getElementById(\"5c55617a-a4bf-4211-8709-7fb23c882618\")) {                    Plotly.newPlot(                        \"5c55617a-a4bf-4211-8709-7fb23c882618\",                        [{\"marker\": {\"color\": \"red\", \"size\": 8}, \"mode\": \"lines+markers\", \"name\": \"North America\", \"text\": [\"Wii Sports\", \"Super Mario Bros.\", \"Mario Kart Wii\", \"Wii Sports Resort\", \"Pokemon Red/Pokemon Blue\", \"Tetris\", \"New Super Mario Bros.\", \"Wii Play\", \"New Super Mario Bros. Wii\", \"Duck Hunt\", \"Nintendogs\", \"Mario Kart DS\", \"Pokemon Gold/Pokemon Silver\", \"Wii Fit\", \"Wii Fit Plus\", \"Kinect Adventures!\", \"Grand Theft Auto V\", \"Grand Theft Auto: San Andreas\", \"Super Mario World\", \"Brain Age: Train Your Brain in Minutes a Day\", \"Pokemon Diamond/Pokemon Pearl\", \"Super Mario Land\", \"Super Mario Bros. 3\", \"Grand Theft Auto V\", \"Grand Theft Auto: Vice City\", \"Pokemon Ruby/Pokemon Sapphire\", \"Pokemon Black/Pokemon White\", \"Brain Age 2: More Training in Minutes a Day\", \"Gran Turismo 3: A-Spec\", \"Call of Duty: Modern Warfare 3\", \"Pok\\u00e9mon Yellow: Special Pikachu Edition\", \"Call of Duty: Black Ops\", \"Pokemon X/Pokemon Y\", \"Call of Duty: Black Ops 3\", \"Call of Duty: Black Ops II\", \"Call of Duty: Black Ops II\", \"Call of Duty: Modern Warfare 2\", \"Call of Duty: Modern Warfare 3\", \"Grand Theft Auto III\", \"Super Smash Bros. Brawl\", \"Call of Duty: Black Ops\", \"Animal Crossing: Wild World\", \"Mario Kart 7\", \"Halo 3\", \"Grand Theft Auto V\", \"Pokemon HeartGold/Pokemon SoulSilver\", \"Super Mario 64\", \"Gran Turismo 4\", \"Super Mario Galaxy\", \"Pokemon Omega Ruby/Pokemon Alpha Sapphire\", \"Super Mario Land 2: 6 Golden Coins\", \"Grand Theft Auto IV\", \"Gran Turismo\", \"Super Mario 3D Land\", \"Gran Turismo 5\", \"Call of Duty: Modern Warfare 2\", \"Grand Theft Auto IV\", \"Super Mario All-Stars\", \"Pokemon FireRed/Pokemon LeafGreen\", \"Super Mario 64\", \"Just Dance 3\", \"Call of Duty: Ghosts\", \"Halo: Reach\", \"Mario Kart 64\", \"New Super Mario Bros. 2\", \"Halo 4\", \"Final Fantasy VII\", \"Call of Duty: Ghosts\", \"Just Dance 2\", \"Gran Turismo 2\", \"Call of Duty 4: Modern Warfare\", \"Donkey Kong Country\", \"Minecraft\", \"Animal Crossing: New Leaf\", \"Mario Party DS\", \"The Elder Scrolls V: Skyrim\", \"Super Mario Kart\", \"FIFA 16\", \"Wii Party\", \"Halo 2\", \"Mario Party 8\", \"Pokemon Black 2/Pokemon White 2\", \"FIFA Soccer 13\", \"The Sims 3\", \"GoldenEye 007\", \"Mario & Sonic at the Olympic Games\", \"Final Fantasy X\", \"Final Fantasy VIII\", \"Pok\\u00e9mon Platinum Version\", \"Pac-Man\", \"Grand Theft Auto: Liberty City Stories\", \"Super Mario Galaxy 2\", \"Star Wars Battlefront (2015)\", \"Call of Duty: Advanced Warfare\", \"The Legend of Zelda: Ocarina of Time\", \"Crash Bandicoot 2: Cortex Strikes Back\", \"Super Mario Bros. 2\", \"Super Smash Bros. for Wii U and 3DS\", \"Call of Duty: World at War\", \"Battlefield 3\"], \"type\": \"scatter\", \"x\": [1, 2, 3, 4, 5, 6, 7, 8, 9, 10, 11, 12, 13, 14, 15, 16, 17, 18, 19, 20, 21, 22, 23, 24, 25, 26, 27, 28, 29, 30, 31, 32, 33, 34, 35, 36, 37, 38, 39, 40, 41, 42, 43, 44, 45, 46, 47, 48, 49, 50, 51, 52, 53, 54, 55, 56, 57, 58, 59, 60, 61, 62, 63, 64, 65, 66, 67, 68, 69, 70, 71, 72, 73, 74, 75, 76, 77, 78, 79, 80, 81, 82, 83, 84, 85, 86, 87, 88, 89, 90, 91, 92, 93, 94, 95, 96, 97, 98, 99, 100], \"y\": [41.49, 29.08, 15.85, 15.75, 11.27, 23.2, 11.38, 14.03, 14.59, 26.93, 9.07, 9.81, 9.0, 8.94, 9.09, 14.97, 7.01, 9.43, 12.78, 4.75, 6.42, 10.83, 9.54, 9.63, 8.41, 6.06, 5.57, 3.44, 6.85, 9.03, 5.89, 9.67, 5.17, 5.77, 4.99, 8.25, 8.52, 5.54, 6.99, 6.75, 5.98, 2.55, 4.74, 7.97, 3.8, 4.4, 6.91, 3.01, 6.16, 4.23, 6.16, 6.76, 4.02, 4.89, 2.96, 4.99, 4.76, 5.99, 4.34, 5.08, 6.05, 6.72, 7.03, 5.55, 3.66, 6.63, 3.01, 4.09, 5.84, 3.88, 5.91, 4.36, 5.58, 2.01, 4.46, 5.03, 3.54, 1.11, 1.79, 6.82, 3.81, 2.91, 1.06, 0.98, 5.8, 2.58, 2.91, 2.28, 2.82, 7.28, 2.9, 3.66, 2.93, 2.8, 4.1, 3.78, 5.39, 3.24, 4.79, 4.46]}, {\"marker\": {\"color\": \"cyan\", \"size\": 8}, \"mode\": \"lines+markers\", \"name\": \"Europe\", \"text\": [\"Wii Sports\", \"Super Mario Bros.\", \"Mario Kart Wii\", \"Wii Sports Resort\", \"Pokemon Red/Pokemon Blue\", \"Tetris\", \"New Super Mario Bros.\", \"Wii Play\", \"New Super Mario Bros. Wii\", \"Duck Hunt\", \"Nintendogs\", \"Mario Kart DS\", \"Pokemon Gold/Pokemon Silver\", \"Wii Fit\", \"Wii Fit Plus\", \"Kinect Adventures!\", \"Grand Theft Auto V\", \"Grand Theft Auto: San Andreas\", \"Super Mario World\", \"Brain Age: Train Your Brain in Minutes a Day\", \"Pokemon Diamond/Pokemon Pearl\", \"Super Mario Land\", \"Super Mario Bros. 3\", \"Grand Theft Auto V\", \"Grand Theft Auto: Vice City\", \"Pokemon Ruby/Pokemon Sapphire\", \"Pokemon Black/Pokemon White\", \"Brain Age 2: More Training in Minutes a Day\", \"Gran Turismo 3: A-Spec\", \"Call of Duty: Modern Warfare 3\", \"Pok\\u00e9mon Yellow: Special Pikachu Edition\", \"Call of Duty: Black Ops\", \"Pokemon X/Pokemon Y\", \"Call of Duty: Black Ops 3\", \"Call of Duty: Black Ops II\", \"Call of Duty: Black Ops II\", \"Call of Duty: Modern Warfare 2\", \"Call of Duty: Modern Warfare 3\", \"Grand Theft Auto III\", \"Super Smash Bros. Brawl\", \"Call of Duty: Black Ops\", \"Animal Crossing: Wild World\", \"Mario Kart 7\", \"Halo 3\", \"Grand Theft Auto V\", \"Pokemon HeartGold/Pokemon SoulSilver\", \"Super Mario 64\", \"Gran Turismo 4\", \"Super Mario Galaxy\", \"Pokemon Omega Ruby/Pokemon Alpha Sapphire\", \"Super Mario Land 2: 6 Golden Coins\", \"Grand Theft Auto IV\", \"Gran Turismo\", \"Super Mario 3D Land\", \"Gran Turismo 5\", \"Call of Duty: Modern Warfare 2\", \"Grand Theft Auto IV\", \"Super Mario All-Stars\", \"Pokemon FireRed/Pokemon LeafGreen\", \"Super Mario 64\", \"Just Dance 3\", \"Call of Duty: Ghosts\", \"Halo: Reach\", \"Mario Kart 64\", \"New Super Mario Bros. 2\", \"Halo 4\", \"Final Fantasy VII\", \"Call of Duty: Ghosts\", \"Just Dance 2\", \"Gran Turismo 2\", \"Call of Duty 4: Modern Warfare\", \"Donkey Kong Country\", \"Minecraft\", \"Animal Crossing: New Leaf\", \"Mario Party DS\", \"The Elder Scrolls V: Skyrim\", \"Super Mario Kart\", \"FIFA 16\", \"Wii Party\", \"Halo 2\", \"Mario Party 8\", \"Pokemon Black 2/Pokemon White 2\", \"FIFA Soccer 13\", \"The Sims 3\", \"GoldenEye 007\", \"Mario & Sonic at the Olympic Games\", \"Final Fantasy X\", \"Final Fantasy VIII\", \"Pok\\u00e9mon Platinum Version\", \"Pac-Man\", \"Grand Theft Auto: Liberty City Stories\", \"Super Mario Galaxy 2\", \"Star Wars Battlefront (2015)\", \"Call of Duty: Advanced Warfare\", \"The Legend of Zelda: Ocarina of Time\", \"Crash Bandicoot 2: Cortex Strikes Back\", \"Super Mario Bros. 2\", \"Super Smash Bros. for Wii U and 3DS\", \"Call of Duty: World at War\", \"Battlefield 3\"], \"type\": \"scatter\", \"x\": [1, 2, 3, 4, 5, 6, 7, 8, 9, 10, 11, 12, 13, 14, 15, 16, 17, 18, 19, 20, 21, 22, 23, 24, 25, 26, 27, 28, 29, 30, 31, 32, 33, 34, 35, 36, 37, 38, 39, 40, 41, 42, 43, 44, 45, 46, 47, 48, 49, 50, 51, 52, 53, 54, 55, 56, 57, 58, 59, 60, 61, 62, 63, 64, 65, 66, 67, 68, 69, 70, 71, 72, 73, 74, 75, 76, 77, 78, 79, 80, 81, 82, 83, 84, 85, 86, 87, 88, 89, 90, 91, 92, 93, 94, 95, 96, 97, 98, 99, 100], \"y\": [29.02, 3.58, 12.88, 11.01, 8.89, 2.26, 9.23, 9.2, 7.06, 0.63, 11.0, 7.57, 6.18, 8.03, 8.59, 4.94, 9.27, 0.4, 3.75, 9.26, 4.52, 2.71, 3.44, 5.31, 5.49, 3.9, 3.28, 5.36, 5.09, 4.28, 5.04, 3.73, 4.05, 5.81, 5.88, 4.3, 3.63, 5.82, 4.51, 2.61, 4.44, 3.52, 3.91, 2.83, 5.81, 2.77, 2.85, 0.01, 3.4, 3.37, 2.04, 3.1, 3.87, 2.99, 4.88, 3.69, 3.76, 2.15, 2.65, 3.11, 3.15, 2.63, 1.98, 1.94, 3.07, 2.36, 2.47, 3.73, 2.89, 3.42, 2.38, 1.71, 2.83, 2.32, 1.88, 2.86, 1.24, 6.06, 3.53, 1.53, 2.3, 1.86, 5.05, 6.42, 2.01, 3.9, 2.07, 1.72, 1.78, 0.45, 2.83, 2.42, 3.29, 3.3, 1.89, 2.17, 1.18, 1.35, 1.9, 2.13]}, {\"marker\": {\"color\": \"blue\", \"size\": 8}, \"mode\": \"lines+markers\", \"name\": \"Japan\", \"text\": [\"Wii Sports\", \"Super Mario Bros.\", \"Mario Kart Wii\", \"Wii Sports Resort\", \"Pokemon Red/Pokemon Blue\", \"Tetris\", \"New Super Mario Bros.\", \"Wii Play\", \"New Super Mario Bros. Wii\", \"Duck Hunt\", \"Nintendogs\", \"Mario Kart DS\", \"Pokemon Gold/Pokemon Silver\", \"Wii Fit\", \"Wii Fit Plus\", \"Kinect Adventures!\", \"Grand Theft Auto V\", \"Grand Theft Auto: San Andreas\", \"Super Mario World\", \"Brain Age: Train Your Brain in Minutes a Day\", \"Pokemon Diamond/Pokemon Pearl\", \"Super Mario Land\", \"Super Mario Bros. 3\", \"Grand Theft Auto V\", \"Grand Theft Auto: Vice City\", \"Pokemon Ruby/Pokemon Sapphire\", \"Pokemon Black/Pokemon White\", \"Brain Age 2: More Training in Minutes a Day\", \"Gran Turismo 3: A-Spec\", \"Call of Duty: Modern Warfare 3\", \"Pok\\u00e9mon Yellow: Special Pikachu Edition\", \"Call of Duty: Black Ops\", \"Pokemon X/Pokemon Y\", \"Call of Duty: Black Ops 3\", \"Call of Duty: Black Ops II\", \"Call of Duty: Black Ops II\", \"Call of Duty: Modern Warfare 2\", \"Call of Duty: Modern Warfare 3\", \"Grand Theft Auto III\", \"Super Smash Bros. Brawl\", \"Call of Duty: Black Ops\", \"Animal Crossing: Wild World\", \"Mario Kart 7\", \"Halo 3\", \"Grand Theft Auto V\", \"Pokemon HeartGold/Pokemon SoulSilver\", \"Super Mario 64\", \"Gran Turismo 4\", \"Super Mario Galaxy\", \"Pokemon Omega Ruby/Pokemon Alpha Sapphire\", \"Super Mario Land 2: 6 Golden Coins\", \"Grand Theft Auto IV\", \"Gran Turismo\", \"Super Mario 3D Land\", \"Gran Turismo 5\", \"Call of Duty: Modern Warfare 2\", \"Grand Theft Auto IV\", \"Super Mario All-Stars\", \"Pokemon FireRed/Pokemon LeafGreen\", \"Super Mario 64\", \"Just Dance 3\", \"Call of Duty: Ghosts\", \"Halo: Reach\", \"Mario Kart 64\", \"New Super Mario Bros. 2\", \"Halo 4\", \"Final Fantasy VII\", \"Call of Duty: Ghosts\", \"Just Dance 2\", \"Gran Turismo 2\", \"Call of Duty 4: Modern Warfare\", \"Donkey Kong Country\", \"Minecraft\", \"Animal Crossing: New Leaf\", \"Mario Party DS\", \"The Elder Scrolls V: Skyrim\", \"Super Mario Kart\", \"FIFA 16\", \"Wii Party\", \"Halo 2\", \"Mario Party 8\", \"Pokemon Black 2/Pokemon White 2\", \"FIFA Soccer 13\", \"The Sims 3\", \"GoldenEye 007\", \"Mario & Sonic at the Olympic Games\", \"Final Fantasy X\", \"Final Fantasy VIII\", \"Pok\\u00e9mon Platinum Version\", \"Pac-Man\", \"Grand Theft Auto: Liberty City Stories\", \"Super Mario Galaxy 2\", \"Star Wars Battlefront (2015)\", \"Call of Duty: Advanced Warfare\", \"The Legend of Zelda: Ocarina of Time\", \"Crash Bandicoot 2: Cortex Strikes Back\", \"Super Mario Bros. 2\", \"Super Smash Bros. for Wii U and 3DS\", \"Call of Duty: World at War\", \"Battlefield 3\"], \"type\": \"scatter\", \"x\": [1, 2, 3, 4, 5, 6, 7, 8, 9, 10, 11, 12, 13, 14, 15, 16, 17, 18, 19, 20, 21, 22, 23, 24, 25, 26, 27, 28, 29, 30, 31, 32, 33, 34, 35, 36, 37, 38, 39, 40, 41, 42, 43, 44, 45, 46, 47, 48, 49, 50, 51, 52, 53, 54, 55, 56, 57, 58, 59, 60, 61, 62, 63, 64, 65, 66, 67, 68, 69, 70, 71, 72, 73, 74, 75, 76, 77, 78, 79, 80, 81, 82, 83, 84, 85, 86, 87, 88, 89, 90, 91, 92, 93, 94, 95, 96, 97, 98, 99, 100], \"y\": [3.77, 6.81, 3.79, 3.28, 10.22, 4.22, 6.5, 2.93, 4.7, 0.28, 1.93, 4.13, 7.2, 3.6, 2.53, 0.24, 0.97, 0.41, 3.54, 4.16, 6.04, 4.18, 3.84, 0.06, 0.47, 5.38, 5.65, 5.32, 1.87, 0.13, 3.12, 0.11, 4.34, 0.35, 0.65, 0.07, 0.08, 0.49, 0.3, 2.66, 0.48, 5.33, 2.67, 0.13, 0.36, 3.96, 1.91, 1.1, 1.2, 3.08, 2.69, 0.14, 2.54, 2.13, 0.81, 0.38, 0.44, 2.12, 3.15, 1.25, 0.0, 0.04, 0.08, 2.23, 2.47, 0.04, 3.28, 0.38, 0.01, 1.69, 0.13, 3.0, 0.02, 4.36, 1.98, 0.1, 3.81, 0.06, 2.49, 0.05, 1.58, 3.14, 0.13, 0.0, 0.13, 0.66, 2.73, 3.63, 2.69, 0.0, 0.24, 0.98, 0.22, 0.14, 1.45, 1.31, 0.7, 2.42, 0.0, 0.06]}, {\"marker\": {\"color\": \"green\", \"size\": 8}, \"mode\": \"lines+markers\", \"name\": \"Other\", \"text\": [\"Wii Sports\", \"Super Mario Bros.\", \"Mario Kart Wii\", \"Wii Sports Resort\", \"Pokemon Red/Pokemon Blue\", \"Tetris\", \"New Super Mario Bros.\", \"Wii Play\", \"New Super Mario Bros. Wii\", \"Duck Hunt\", \"Nintendogs\", \"Mario Kart DS\", \"Pokemon Gold/Pokemon Silver\", \"Wii Fit\", \"Wii Fit Plus\", \"Kinect Adventures!\", \"Grand Theft Auto V\", \"Grand Theft Auto: San Andreas\", \"Super Mario World\", \"Brain Age: Train Your Brain in Minutes a Day\", \"Pokemon Diamond/Pokemon Pearl\", \"Super Mario Land\", \"Super Mario Bros. 3\", \"Grand Theft Auto V\", \"Grand Theft Auto: Vice City\", \"Pokemon Ruby/Pokemon Sapphire\", \"Pokemon Black/Pokemon White\", \"Brain Age 2: More Training in Minutes a Day\", \"Gran Turismo 3: A-Spec\", \"Call of Duty: Modern Warfare 3\", \"Pok\\u00e9mon Yellow: Special Pikachu Edition\", \"Call of Duty: Black Ops\", \"Pokemon X/Pokemon Y\", \"Call of Duty: Black Ops 3\", \"Call of Duty: Black Ops II\", \"Call of Duty: Black Ops II\", \"Call of Duty: Modern Warfare 2\", \"Call of Duty: Modern Warfare 3\", \"Grand Theft Auto III\", \"Super Smash Bros. Brawl\", \"Call of Duty: Black Ops\", \"Animal Crossing: Wild World\", \"Mario Kart 7\", \"Halo 3\", \"Grand Theft Auto V\", \"Pokemon HeartGold/Pokemon SoulSilver\", \"Super Mario 64\", \"Gran Turismo 4\", \"Super Mario Galaxy\", \"Pokemon Omega Ruby/Pokemon Alpha Sapphire\", \"Super Mario Land 2: 6 Golden Coins\", \"Grand Theft Auto IV\", \"Gran Turismo\", \"Super Mario 3D Land\", \"Gran Turismo 5\", \"Call of Duty: Modern Warfare 2\", \"Grand Theft Auto IV\", \"Super Mario All-Stars\", \"Pokemon FireRed/Pokemon LeafGreen\", \"Super Mario 64\", \"Just Dance 3\", \"Call of Duty: Ghosts\", \"Halo: Reach\", \"Mario Kart 64\", \"New Super Mario Bros. 2\", \"Halo 4\", \"Final Fantasy VII\", \"Call of Duty: Ghosts\", \"Just Dance 2\", \"Gran Turismo 2\", \"Call of Duty 4: Modern Warfare\", \"Donkey Kong Country\", \"Minecraft\", \"Animal Crossing: New Leaf\", \"Mario Party DS\", \"The Elder Scrolls V: Skyrim\", \"Super Mario Kart\", \"FIFA 16\", \"Wii Party\", \"Halo 2\", \"Mario Party 8\", \"Pokemon Black 2/Pokemon White 2\", \"FIFA Soccer 13\", \"The Sims 3\", \"GoldenEye 007\", \"Mario & Sonic at the Olympic Games\", \"Final Fantasy X\", \"Final Fantasy VIII\", \"Pok\\u00e9mon Platinum Version\", \"Pac-Man\", \"Grand Theft Auto: Liberty City Stories\", \"Super Mario Galaxy 2\", \"Star Wars Battlefront (2015)\", \"Call of Duty: Advanced Warfare\", \"The Legend of Zelda: Ocarina of Time\", \"Crash Bandicoot 2: Cortex Strikes Back\", \"Super Mario Bros. 2\", \"Super Smash Bros. for Wii U and 3DS\", \"Call of Duty: World at War\", \"Battlefield 3\"], \"type\": \"scatter\", \"x\": [1, 2, 3, 4, 5, 6, 7, 8, 9, 10, 11, 12, 13, 14, 15, 16, 17, 18, 19, 20, 21, 22, 23, 24, 25, 26, 27, 28, 29, 30, 31, 32, 33, 34, 35, 36, 37, 38, 39, 40, 41, 42, 43, 44, 45, 46, 47, 48, 49, 50, 51, 52, 53, 54, 55, 56, 57, 58, 59, 60, 61, 62, 63, 64, 65, 66, 67, 68, 69, 70, 71, 72, 73, 74, 75, 76, 77, 78, 79, 80, 81, 82, 83, 84, 85, 86, 87, 88, 89, 90, 91, 92, 93, 94, 95, 96, 97, 98, 99, 100], \"y\": [8.46, 0.77, 3.31, 2.96, 1.0, 0.58, 2.9, 2.85, 2.26, 0.47, 2.75, 1.92, 0.71, 2.15, 1.79, 1.67, 4.14, 10.57, 0.55, 2.05, 1.37, 0.42, 0.46, 1.38, 1.78, 0.5, 0.82, 1.18, 1.16, 1.32, 0.59, 1.13, 0.79, 2.31, 2.52, 1.12, 1.29, 1.62, 1.3, 1.02, 1.83, 0.88, 0.89, 1.21, 2.02, 0.77, 0.23, 7.53, 0.76, 0.65, 0.29, 1.03, 0.52, 0.78, 2.12, 1.63, 1.62, 0.29, 0.35, 0.98, 1.07, 0.82, 0.78, 0.15, 0.63, 0.73, 0.96, 1.38, 0.78, 0.5, 0.9, 0.23, 0.77, 0.41, 0.7, 0.85, 0.18, 1.26, 0.68, 0.08, 0.73, 0.43, 2.01, 0.71, 0.15, 0.91, 0.33, 0.23, 0.55, 0.08, 1.75, 0.64, 1.23, 1.37, 0.16, 0.31, 0.19, 0.43, 0.69, 0.69]}],                        {\"plot_bgcolor\": \"light yellow\", \"template\": {\"data\": {\"bar\": [{\"error_x\": {\"color\": \"#2a3f5f\"}, \"error_y\": {\"color\": \"#2a3f5f\"}, \"marker\": {\"line\": {\"color\": \"#E5ECF6\", \"width\": 0.5}}, \"type\": \"bar\"}], \"barpolar\": [{\"marker\": {\"line\": {\"color\": \"#E5ECF6\", \"width\": 0.5}}, \"type\": \"barpolar\"}], \"carpet\": [{\"aaxis\": {\"endlinecolor\": \"#2a3f5f\", \"gridcolor\": \"white\", \"linecolor\": \"white\", \"minorgridcolor\": \"white\", \"startlinecolor\": \"#2a3f5f\"}, \"baxis\": {\"endlinecolor\": \"#2a3f5f\", \"gridcolor\": \"white\", \"linecolor\": \"white\", \"minorgridcolor\": \"white\", \"startlinecolor\": \"#2a3f5f\"}, \"type\": \"carpet\"}], \"choropleth\": [{\"colorbar\": {\"outlinewidth\": 0, \"ticks\": \"\"}, \"type\": \"choropleth\"}], \"contour\": [{\"colorbar\": {\"outlinewidth\": 0, \"ticks\": \"\"}, \"colorscale\": [[0.0, \"#0d0887\"], [0.1111111111111111, \"#46039f\"], [0.2222222222222222, \"#7201a8\"], [0.3333333333333333, \"#9c179e\"], [0.4444444444444444, \"#bd3786\"], [0.5555555555555556, \"#d8576b\"], [0.6666666666666666, \"#ed7953\"], [0.7777777777777778, \"#fb9f3a\"], [0.8888888888888888, \"#fdca26\"], [1.0, \"#f0f921\"]], \"type\": \"contour\"}], \"contourcarpet\": [{\"colorbar\": {\"outlinewidth\": 0, \"ticks\": \"\"}, \"type\": \"contourcarpet\"}], \"heatmap\": [{\"colorbar\": {\"outlinewidth\": 0, \"ticks\": \"\"}, \"colorscale\": [[0.0, \"#0d0887\"], [0.1111111111111111, \"#46039f\"], [0.2222222222222222, \"#7201a8\"], [0.3333333333333333, \"#9c179e\"], [0.4444444444444444, \"#bd3786\"], [0.5555555555555556, \"#d8576b\"], [0.6666666666666666, \"#ed7953\"], [0.7777777777777778, \"#fb9f3a\"], [0.8888888888888888, \"#fdca26\"], [1.0, \"#f0f921\"]], \"type\": \"heatmap\"}], \"heatmapgl\": [{\"colorbar\": {\"outlinewidth\": 0, \"ticks\": \"\"}, \"colorscale\": [[0.0, \"#0d0887\"], [0.1111111111111111, \"#46039f\"], [0.2222222222222222, \"#7201a8\"], [0.3333333333333333, \"#9c179e\"], [0.4444444444444444, \"#bd3786\"], [0.5555555555555556, \"#d8576b\"], [0.6666666666666666, \"#ed7953\"], [0.7777777777777778, \"#fb9f3a\"], [0.8888888888888888, \"#fdca26\"], [1.0, \"#f0f921\"]], \"type\": \"heatmapgl\"}], \"histogram\": [{\"marker\": {\"colorbar\": {\"outlinewidth\": 0, \"ticks\": \"\"}}, \"type\": \"histogram\"}], \"histogram2d\": [{\"colorbar\": {\"outlinewidth\": 0, \"ticks\": \"\"}, \"colorscale\": [[0.0, \"#0d0887\"], [0.1111111111111111, \"#46039f\"], [0.2222222222222222, \"#7201a8\"], [0.3333333333333333, \"#9c179e\"], [0.4444444444444444, \"#bd3786\"], [0.5555555555555556, \"#d8576b\"], [0.6666666666666666, \"#ed7953\"], [0.7777777777777778, \"#fb9f3a\"], [0.8888888888888888, \"#fdca26\"], [1.0, \"#f0f921\"]], \"type\": \"histogram2d\"}], \"histogram2dcontour\": [{\"colorbar\": {\"outlinewidth\": 0, \"ticks\": \"\"}, \"colorscale\": [[0.0, \"#0d0887\"], [0.1111111111111111, \"#46039f\"], [0.2222222222222222, \"#7201a8\"], [0.3333333333333333, \"#9c179e\"], [0.4444444444444444, \"#bd3786\"], [0.5555555555555556, \"#d8576b\"], [0.6666666666666666, \"#ed7953\"], [0.7777777777777778, \"#fb9f3a\"], [0.8888888888888888, \"#fdca26\"], [1.0, \"#f0f921\"]], \"type\": \"histogram2dcontour\"}], \"mesh3d\": [{\"colorbar\": {\"outlinewidth\": 0, \"ticks\": \"\"}, \"type\": \"mesh3d\"}], \"parcoords\": [{\"line\": {\"colorbar\": {\"outlinewidth\": 0, \"ticks\": \"\"}}, \"type\": \"parcoords\"}], \"pie\": [{\"automargin\": true, \"type\": \"pie\"}], \"scatter\": [{\"marker\": {\"colorbar\": {\"outlinewidth\": 0, \"ticks\": \"\"}}, \"type\": \"scatter\"}], \"scatter3d\": [{\"line\": {\"colorbar\": {\"outlinewidth\": 0, \"ticks\": \"\"}}, \"marker\": {\"colorbar\": {\"outlinewidth\": 0, \"ticks\": \"\"}}, \"type\": \"scatter3d\"}], \"scattercarpet\": [{\"marker\": {\"colorbar\": {\"outlinewidth\": 0, \"ticks\": \"\"}}, \"type\": \"scattercarpet\"}], \"scattergeo\": [{\"marker\": {\"colorbar\": {\"outlinewidth\": 0, \"ticks\": \"\"}}, \"type\": \"scattergeo\"}], \"scattergl\": [{\"marker\": {\"colorbar\": {\"outlinewidth\": 0, \"ticks\": \"\"}}, \"type\": \"scattergl\"}], \"scattermapbox\": [{\"marker\": {\"colorbar\": {\"outlinewidth\": 0, \"ticks\": \"\"}}, \"type\": \"scattermapbox\"}], \"scatterpolar\": [{\"marker\": {\"colorbar\": {\"outlinewidth\": 0, \"ticks\": \"\"}}, \"type\": \"scatterpolar\"}], \"scatterpolargl\": [{\"marker\": {\"colorbar\": {\"outlinewidth\": 0, \"ticks\": \"\"}}, \"type\": \"scatterpolargl\"}], \"scatterternary\": [{\"marker\": {\"colorbar\": {\"outlinewidth\": 0, \"ticks\": \"\"}}, \"type\": \"scatterternary\"}], \"surface\": [{\"colorbar\": {\"outlinewidth\": 0, \"ticks\": \"\"}, \"colorscale\": [[0.0, \"#0d0887\"], [0.1111111111111111, \"#46039f\"], [0.2222222222222222, \"#7201a8\"], [0.3333333333333333, \"#9c179e\"], [0.4444444444444444, \"#bd3786\"], [0.5555555555555556, \"#d8576b\"], [0.6666666666666666, \"#ed7953\"], [0.7777777777777778, \"#fb9f3a\"], [0.8888888888888888, \"#fdca26\"], [1.0, \"#f0f921\"]], \"type\": \"surface\"}], \"table\": [{\"cells\": {\"fill\": {\"color\": \"#EBF0F8\"}, \"line\": {\"color\": \"white\"}}, \"header\": {\"fill\": {\"color\": \"#C8D4E3\"}, \"line\": {\"color\": \"white\"}}, \"type\": \"table\"}]}, \"layout\": {\"annotationdefaults\": {\"arrowcolor\": \"#2a3f5f\", \"arrowhead\": 0, \"arrowwidth\": 1}, \"autotypenumbers\": \"strict\", \"coloraxis\": {\"colorbar\": {\"outlinewidth\": 0, \"ticks\": \"\"}}, \"colorscale\": {\"diverging\": [[0, \"#8e0152\"], [0.1, \"#c51b7d\"], [0.2, \"#de77ae\"], [0.3, \"#f1b6da\"], [0.4, \"#fde0ef\"], [0.5, \"#f7f7f7\"], [0.6, \"#e6f5d0\"], [0.7, \"#b8e186\"], [0.8, \"#7fbc41\"], [0.9, \"#4d9221\"], [1, \"#276419\"]], \"sequential\": [[0.0, \"#0d0887\"], [0.1111111111111111, \"#46039f\"], [0.2222222222222222, \"#7201a8\"], [0.3333333333333333, \"#9c179e\"], [0.4444444444444444, \"#bd3786\"], [0.5555555555555556, \"#d8576b\"], [0.6666666666666666, \"#ed7953\"], [0.7777777777777778, \"#fb9f3a\"], [0.8888888888888888, \"#fdca26\"], [1.0, \"#f0f921\"]], \"sequentialminus\": [[0.0, \"#0d0887\"], [0.1111111111111111, \"#46039f\"], [0.2222222222222222, \"#7201a8\"], [0.3333333333333333, \"#9c179e\"], [0.4444444444444444, \"#bd3786\"], [0.5555555555555556, \"#d8576b\"], [0.6666666666666666, \"#ed7953\"], [0.7777777777777778, \"#fb9f3a\"], [0.8888888888888888, \"#fdca26\"], [1.0, \"#f0f921\"]]}, \"colorway\": [\"#636efa\", \"#EF553B\", \"#00cc96\", \"#ab63fa\", \"#FFA15A\", \"#19d3f3\", \"#FF6692\", \"#B6E880\", \"#FF97FF\", \"#FECB52\"], \"font\": {\"color\": \"#2a3f5f\"}, \"geo\": {\"bgcolor\": \"white\", \"lakecolor\": \"white\", \"landcolor\": \"#E5ECF6\", \"showlakes\": true, \"showland\": true, \"subunitcolor\": \"white\"}, \"hoverlabel\": {\"align\": \"left\"}, \"hovermode\": \"closest\", \"mapbox\": {\"style\": \"light\"}, \"paper_bgcolor\": \"white\", \"plot_bgcolor\": \"#E5ECF6\", \"polar\": {\"angularaxis\": {\"gridcolor\": \"white\", \"linecolor\": \"white\", \"ticks\": \"\"}, \"bgcolor\": \"#E5ECF6\", \"radialaxis\": {\"gridcolor\": \"white\", \"linecolor\": \"white\", \"ticks\": \"\"}}, \"scene\": {\"xaxis\": {\"backgroundcolor\": \"#E5ECF6\", \"gridcolor\": \"white\", \"gridwidth\": 2, \"linecolor\": \"white\", \"showbackground\": true, \"ticks\": \"\", \"zerolinecolor\": \"white\"}, \"yaxis\": {\"backgroundcolor\": \"#E5ECF6\", \"gridcolor\": \"white\", \"gridwidth\": 2, \"linecolor\": \"white\", \"showbackground\": true, \"ticks\": \"\", \"zerolinecolor\": \"white\"}, \"zaxis\": {\"backgroundcolor\": \"#E5ECF6\", \"gridcolor\": \"white\", \"gridwidth\": 2, \"linecolor\": \"white\", \"showbackground\": true, \"ticks\": \"\", \"zerolinecolor\": \"white\"}}, \"shapedefaults\": {\"line\": {\"color\": \"#2a3f5f\"}}, \"ternary\": {\"aaxis\": {\"gridcolor\": \"white\", \"linecolor\": \"white\", \"ticks\": \"\"}, \"baxis\": {\"gridcolor\": \"white\", \"linecolor\": \"white\", \"ticks\": \"\"}, \"bgcolor\": \"#E5ECF6\", \"caxis\": {\"gridcolor\": \"white\", \"linecolor\": \"white\", \"ticks\": \"\"}}, \"title\": {\"x\": 0.05}, \"xaxis\": {\"automargin\": true, \"gridcolor\": \"white\", \"linecolor\": \"white\", \"ticks\": \"\", \"title\": {\"standoff\": 15}, \"zerolinecolor\": \"white\", \"zerolinewidth\": 2}, \"yaxis\": {\"automargin\": true, \"gridcolor\": \"white\", \"linecolor\": \"white\", \"ticks\": \"\", \"title\": {\"standoff\": 15}, \"zerolinecolor\": \"white\", \"zerolinewidth\": 2}}}, \"title\": {\"text\": \"North America, Europe, Japan and Other Sales of Top 100 Video Games\"}, \"xaxis\": {\"gridcolor\": \"black\", \"title\": {\"text\": \"Rank\"}}, \"yaxis\": {\"gridcolor\": \"black\", \"title\": {\"text\": \"Sales(In Millions)\"}}},                        {\"responsive\": true}                    ).then(function(){\n",
       "                            \n",
       "var gd = document.getElementById('5c55617a-a4bf-4211-8709-7fb23c882618');\n",
       "var x = new MutationObserver(function (mutations, observer) {{\n",
       "        var display = window.getComputedStyle(gd).display;\n",
       "        if (!display || display === 'none') {{\n",
       "            console.log([gd, 'removed!']);\n",
       "            Plotly.purge(gd);\n",
       "            observer.disconnect();\n",
       "        }}\n",
       "}});\n",
       "\n",
       "// Listen for the removal of the full notebook cells\n",
       "var notebookContainer = gd.closest('#notebook-container');\n",
       "if (notebookContainer) {{\n",
       "    x.observe(notebookContainer, {childList: true});\n",
       "}}\n",
       "\n",
       "// Listen for the clearing of the current output cell\n",
       "var outputEl = gd.closest('.output');\n",
       "if (outputEl) {{\n",
       "    x.observe(outputEl, {childList: true});\n",
       "}}\n",
       "\n",
       "                        })                };                });            </script>        </div>"
      ]
     },
     "metadata": {},
     "output_type": "display_data"
    }
   ],
   "source": [
    "trace1 = go.Scatter(\n",
    "                    x = top100.Rank,\n",
    "                    y = top100.NA_Sales,\n",
    "                    mode = \"lines+markers\",\n",
    "                    name = \"North America\",\n",
    "                    marker = dict(color = 'red',size=8),\n",
    "                    text= top100.Name)\n",
    "\n",
    "trace2 = go.Scatter(\n",
    "                    x = top100.Rank,\n",
    "                    y = top100.EU_Sales,\n",
    "                    mode = \"lines+markers\",\n",
    "                    name = \"Europe\",\n",
    "                    marker = dict(color = 'cyan',size=8),\n",
    "                    text= top100.Name)\n",
    "trace3 = go.Scatter(\n",
    "                    x = top100.Rank,\n",
    "                    y = top100.JP_Sales,\n",
    "                    mode = \"lines+markers\",\n",
    "                    name = \"Japan\",\n",
    "                    marker = dict(color = 'blue',size=8),\n",
    "                    text= top100.Name)\n",
    "trace4 = go.Scatter(\n",
    "                    x = top100.Rank,\n",
    "                    y = top100.Other_Sales,\n",
    "                    mode = \"lines+markers\",\n",
    "                    name = \"Other\",\n",
    "                    marker = dict(color = 'green',size=8),\n",
    "                    text= top100.Name)\n",
    "                    \n",
    "\n",
    "trace = [trace1, trace2,trace3,trace4]\n",
    "layout = dict(title = 'North America, Europe, Japan and Other Sales of Top 100 Video Games',\n",
    "              xaxis= dict(title= 'Rank',gridcolor=\"black\"),\n",
    "              yaxis= dict(title= 'Sales(In Millions)',gridcolor=\"black\",),\n",
    "              plot_bgcolor='light yellow' )\n",
    "fig = dict(data = trace, layout = layout)\n",
    "iplot(fig)"
   ]
  },
  {
   "cell_type": "markdown",
   "metadata": {},
   "source": [
    "from the above graph we can see that see that 'Wii Sports' takes the first place with enormous amount of sales in North America .\n",
    "Wii Sports is a 2006 sports video game developed and published by Nintendo for the Wii video game console. The game was released in North America along with the Wii on November 19, 2006, and was released in Japan, Oceania, and Europe the following month. It was included as a pack-in game with the console in all territories except Japan and South Korea, making it the first sports game included with the launch of a Nintendo system since Mario's Tennis for the Virtual Boy in 1995. Wii Sports is available on its own as part of the Nintendo Selects collection of games.(source:Wikipedia)\n",
    "\n",
    "\n",
    "At second place comes 'Super Mario Bros' with also having huge amount of sales in North America. Super Mario is a platform game series and media franchise created by Nintendo and featuring their mascot, Mario. Alternatively called the Super Mario Bros. series or simply the Mario series, it is the central series of the greater Mario franchise.(source: Wikipedia)\n",
    "\n",
    "Other games rank as follows:\n",
    "\n",
    "3- Mario Kart Wii,\n",
    "\n",
    "4- Wii Sports Resort,\n",
    "\n",
    "5- Pokemon Red / Pokemon Blue,\n",
    "\n",
    "6- Tetris,\n",
    "\n",
    "7- New Super Mario Bros,\n",
    "\n",
    "8- Wii Play,\n",
    "\n",
    "9- New Super Mario Bros Wii ,\n",
    "\n",
    "10-Duck Hunt\n",
    "\n",
    "and so on..\n",
    "\n"
   ]
  },
  {
   "cell_type": "markdown",
   "metadata": {},
   "source": [
    "Although majority of sales are contributed by North America and Europe, we can also notice that pokemon games such as 'Pokemon red/blue','Pokemon golden/silver' etc. are fairly popular in Japan.\n",
    "GTA san andreas is more popular in other regions compared to Europe,North America and Japan"
   ]
  },
  {
   "cell_type": "markdown",
   "metadata": {},
   "source": [
    "# Now lets analyse Top 100 games according to their global sales and publishers"
   ]
  },
  {
   "cell_type": "code",
   "execution_count": 12,
   "metadata": {},
   "outputs": [
    {
     "data": {
      "application/vnd.plotly.v1+json": {
       "config": {
        "linkText": "Export to plot.ly",
        "plotlyServerURL": "https://plot.ly",
        "showLink": false
       },
       "data": [
        {
         "marker": {
          "color": [
           82.74,
           40.24,
           35.82,
           33,
           31.37,
           30.26,
           30.01,
           29.02,
           28.62,
           28.31,
           24.76,
           23.42,
           23.1,
           22.72,
           22,
           21.82,
           21.4,
           20.81,
           20.61,
           20.22,
           18.36,
           18.14,
           17.28,
           16.38,
           16.15,
           15.85,
           15.32,
           15.3,
           14.98,
           14.76,
           14.64,
           14.64,
           14.35,
           14.24,
           14.03,
           13.73,
           13.51,
           13.46,
           13.1,
           13.04,
           12.73,
           12.27,
           12.21,
           12.14,
           11.98,
           11.9,
           11.89,
           11.66,
           11.52,
           11.33,
           11.18,
           11.02,
           10.95,
           10.79,
           10.77,
           10.69,
           10.57,
           10.55,
           10.49,
           10.42,
           10.26,
           10.21,
           9.88,
           9.87,
           9.82,
           9.76,
           9.72,
           9.59,
           9.52,
           9.49,
           9.32,
           9.3,
           9.2,
           9.09,
           9.02,
           8.84,
           8.76,
           8.49,
           8.49,
           8.49,
           8.42,
           8.33,
           8.24,
           8.11,
           8.09,
           8.06,
           8.05,
           7.86,
           7.84,
           7.81,
           7.72,
           7.69,
           7.67,
           7.6,
           7.6,
           7.58,
           7.46,
           7.45,
           7.37,
           7.34
          ],
          "colorscale": [
           [
            0,
            "rgb(0,0,0)"
           ],
           [
            0.25,
            "rgb(230,0,0)"
           ],
           [
            0.5,
            "rgb(230,210,0)"
           ],
           [
            0.75,
            "rgb(255,255,255)"
           ],
           [
            1,
            "rgb(160,200,255)"
           ]
          ],
          "showscale": true,
          "size": [
           82.74,
           40.24,
           35.82,
           33,
           31.37,
           30.26,
           30.01,
           29.02,
           28.62,
           28.31,
           24.76,
           23.42,
           23.1,
           22.72,
           22,
           21.82,
           21.4,
           20.81,
           20.61,
           20.22,
           18.36,
           18.14,
           17.28,
           16.38,
           16.15,
           15.85,
           15.32,
           15.3,
           14.98,
           14.76,
           14.64,
           14.64,
           14.35,
           14.24,
           14.03,
           13.73,
           13.51,
           13.46,
           13.1,
           13.04,
           12.73,
           12.27,
           12.21,
           12.14,
           11.98,
           11.9,
           11.89,
           11.66,
           11.52,
           11.33,
           11.18,
           11.02,
           10.95,
           10.79,
           10.77,
           10.69,
           10.57,
           10.55,
           10.49,
           10.42,
           10.26,
           10.21,
           9.88,
           9.87,
           9.82,
           9.76,
           9.72,
           9.59,
           9.52,
           9.49,
           9.32,
           9.3,
           9.2,
           9.09,
           9.02,
           8.84,
           8.76,
           8.49,
           8.49,
           8.49,
           8.42,
           8.33,
           8.24,
           8.11,
           8.09,
           8.06,
           8.05,
           7.86,
           7.84,
           7.81,
           7.72,
           7.69,
           7.67,
           7.6,
           7.6,
           7.58,
           7.46,
           7.45,
           7.37,
           7.34
          ]
         },
         "mode": "markers",
         "text": [
          "Name:Wii Sports, Publisher:Nintendo",
          "Name:Super Mario Bros., Publisher:Nintendo",
          "Name:Mario Kart Wii, Publisher:Nintendo",
          "Name:Wii Sports Resort, Publisher:Nintendo",
          "Name:Pokemon Red/Pokemon Blue, Publisher:Nintendo",
          "Name:Tetris, Publisher:Nintendo",
          "Name:New Super Mario Bros., Publisher:Nintendo",
          "Name:Wii Play, Publisher:Nintendo",
          "Name:New Super Mario Bros. Wii, Publisher:Nintendo",
          "Name:Duck Hunt, Publisher:Nintendo",
          "Name:Nintendogs, Publisher:Nintendo",
          "Name:Mario Kart DS, Publisher:Nintendo",
          "Name:Pokemon Gold/Pokemon Silver, Publisher:Nintendo",
          "Name:Wii Fit, Publisher:Nintendo",
          "Name:Wii Fit Plus, Publisher:Nintendo",
          "Name:Kinect Adventures!, Publisher:Microsoft Game Studios",
          "Name:Grand Theft Auto V, Publisher:Take-Two Interactive",
          "Name:Grand Theft Auto: San Andreas, Publisher:Take-Two Interactive",
          "Name:Super Mario World, Publisher:Nintendo",
          "Name:Brain Age: Train Your Brain in Minutes a Day, Publisher:Nintendo",
          "Name:Pokemon Diamond/Pokemon Pearl, Publisher:Nintendo",
          "Name:Super Mario Land, Publisher:Nintendo",
          "Name:Super Mario Bros. 3, Publisher:Nintendo",
          "Name:Grand Theft Auto V, Publisher:Take-Two Interactive",
          "Name:Grand Theft Auto: Vice City, Publisher:Take-Two Interactive",
          "Name:Pokemon Ruby/Pokemon Sapphire, Publisher:Nintendo",
          "Name:Pokemon Black/Pokemon White, Publisher:Nintendo",
          "Name:Brain Age 2: More Training in Minutes a Day, Publisher:Nintendo",
          "Name:Gran Turismo 3: A-Spec, Publisher:Sony Computer Entertainment",
          "Name:Call of Duty: Modern Warfare 3, Publisher:Activision",
          "Name:Pokémon Yellow: Special Pikachu Edition, Publisher:Nintendo",
          "Name:Call of Duty: Black Ops, Publisher:Activision",
          "Name:Pokemon X/Pokemon Y, Publisher:Nintendo",
          "Name:Call of Duty: Black Ops 3, Publisher:Activision",
          "Name:Call of Duty: Black Ops II, Publisher:Activision",
          "Name:Call of Duty: Black Ops II, Publisher:Activision",
          "Name:Call of Duty: Modern Warfare 2, Publisher:Activision",
          "Name:Call of Duty: Modern Warfare 3, Publisher:Activision",
          "Name:Grand Theft Auto III, Publisher:Take-Two Interactive",
          "Name:Super Smash Bros. Brawl, Publisher:Nintendo",
          "Name:Call of Duty: Black Ops, Publisher:Activision",
          "Name:Animal Crossing: Wild World, Publisher:Nintendo",
          "Name:Mario Kart 7, Publisher:Nintendo",
          "Name:Halo 3, Publisher:Microsoft Game Studios",
          "Name:Grand Theft Auto V, Publisher:Take-Two Interactive",
          "Name:Pokemon HeartGold/Pokemon SoulSilver, Publisher:Nintendo",
          "Name:Super Mario 64, Publisher:Nintendo",
          "Name:Gran Turismo 4, Publisher:Sony Computer Entertainment",
          "Name:Super Mario Galaxy, Publisher:Nintendo",
          "Name:Pokemon Omega Ruby/Pokemon Alpha Sapphire, Publisher:Nintendo",
          "Name:Super Mario Land 2: 6 Golden Coins, Publisher:Nintendo",
          "Name:Grand Theft Auto IV, Publisher:Take-Two Interactive",
          "Name:Gran Turismo, Publisher:Sony Computer Entertainment",
          "Name:Super Mario 3D Land, Publisher:Nintendo",
          "Name:Gran Turismo 5, Publisher:Sony Computer Entertainment",
          "Name:Call of Duty: Modern Warfare 2, Publisher:Activision",
          "Name:Grand Theft Auto IV, Publisher:Take-Two Interactive",
          "Name:Super Mario All-Stars, Publisher:Nintendo",
          "Name:Pokemon FireRed/Pokemon LeafGreen, Publisher:Nintendo",
          "Name:Super Mario 64, Publisher:Nintendo",
          "Name:Just Dance 3, Publisher:Ubisoft",
          "Name:Call of Duty: Ghosts, Publisher:Activision",
          "Name:Halo: Reach, Publisher:Microsoft Game Studios",
          "Name:Mario Kart 64, Publisher:Nintendo",
          "Name:New Super Mario Bros. 2, Publisher:Nintendo",
          "Name:Halo 4, Publisher:Microsoft Game Studios",
          "Name:Final Fantasy VII, Publisher:Sony Computer Entertainment",
          "Name:Call of Duty: Ghosts, Publisher:Activision",
          "Name:Just Dance 2, Publisher:Ubisoft",
          "Name:Gran Turismo 2, Publisher:Sony Computer Entertainment",
          "Name:Call of Duty 4: Modern Warfare, Publisher:Activision",
          "Name:Donkey Kong Country, Publisher:Nintendo",
          "Name:Minecraft, Publisher:Microsoft Game Studios",
          "Name:Animal Crossing: New Leaf, Publisher:Nintendo",
          "Name:Mario Party DS, Publisher:Nintendo",
          "Name:The Elder Scrolls V: Skyrim, Publisher:Bethesda Softworks",
          "Name:Super Mario Kart, Publisher:Nintendo",
          "Name:FIFA 16, Publisher:Electronic Arts",
          "Name:Wii Party, Publisher:Nintendo",
          "Name:Halo 2, Publisher:Microsoft Game Studios",
          "Name:Mario Party 8, Publisher:Nintendo",
          "Name:Pokemon Black 2/Pokemon White 2, Publisher:Nintendo",
          "Name:FIFA Soccer 13, Publisher:Electronic Arts",
          "Name:The Sims 3, Publisher:Electronic Arts",
          "Name:GoldenEye 007, Publisher:Nintendo",
          "Name:Mario & Sonic at the Olympic Games, Publisher:Sega",
          "Name:Final Fantasy X, Publisher:Sony Computer Entertainment",
          "Name:Final Fantasy VIII, Publisher:SquareSoft",
          "Name:Pokémon Platinum Version, Publisher:Nintendo",
          "Name:Pac-Man, Publisher:Atari",
          "Name:Grand Theft Auto: Liberty City Stories, Publisher:Take-Two Interactive",
          "Name:Super Mario Galaxy 2, Publisher:Nintendo",
          "Name:Star Wars Battlefront (2015), Publisher:Electronic Arts",
          "Name:Call of Duty: Advanced Warfare, Publisher:Activision",
          "Name:The Legend of Zelda: Ocarina of Time, Publisher:Nintendo",
          "Name:Crash Bandicoot 2: Cortex Strikes Back, Publisher:Sony Computer Entertainment",
          "Name:Super Mario Bros. 2, Publisher:Nintendo",
          "Name:Super Smash Bros. for Wii U and 3DS, Publisher:Nintendo",
          "Name:Call of Duty: World at War, Publisher:Activision",
          "Name:Battlefield 3, Publisher:Electronic Arts"
         ],
         "type": "scatter",
         "x": [
          1,
          2,
          3,
          4,
          5,
          6,
          7,
          8,
          9,
          10,
          11,
          12,
          13,
          14,
          15,
          16,
          17,
          18,
          19,
          20,
          21,
          22,
          23,
          24,
          25,
          26,
          27,
          28,
          29,
          30,
          31,
          32,
          33,
          34,
          35,
          36,
          37,
          38,
          39,
          40,
          41,
          42,
          43,
          44,
          45,
          46,
          47,
          48,
          49,
          50,
          51,
          52,
          53,
          54,
          55,
          56,
          57,
          58,
          59,
          60,
          61,
          62,
          63,
          64,
          65,
          66,
          67,
          68,
          69,
          70,
          71,
          72,
          73,
          74,
          75,
          76,
          77,
          78,
          79,
          80,
          81,
          82,
          83,
          84,
          85,
          86,
          87,
          88,
          89,
          90,
          91,
          92,
          93,
          94,
          95,
          96,
          97,
          98,
          99,
          100
         ],
         "y": [
          2006,
          1985,
          2008,
          2009,
          1996,
          1989,
          2006,
          2006,
          2009,
          1984,
          2005,
          2005,
          1999,
          2007,
          2009,
          2010,
          2013,
          2004,
          1990,
          2005,
          2006,
          1989,
          1988,
          2013,
          2002,
          2002,
          2010,
          2005,
          2001,
          2011,
          1998,
          2010,
          2013,
          2015,
          2012,
          2012,
          2009,
          2011,
          2001,
          2008,
          2010,
          2005,
          2011,
          2007,
          2014,
          2009,
          1996,
          2004,
          2007,
          2014,
          1992,
          2008,
          1997,
          2011,
          2010,
          2009,
          2008,
          1993,
          2004,
          2004,
          2011,
          2013,
          2010,
          1996,
          2012,
          2012,
          1997,
          2013,
          2010,
          1999,
          2007,
          1994,
          2013,
          2012,
          2007,
          2011,
          1992,
          2015,
          2010,
          2004,
          2007,
          2012,
          2012,
          2009,
          1997,
          2007,
          2001,
          1999,
          2008,
          1982,
          2005,
          2010,
          2015,
          2014,
          1998,
          1997,
          1988,
          2014,
          2008,
          2011
         ]
        }
       ],
       "layout": {
        "paper_bgcolor": "rgb(243, 243, 243)",
        "plot_bgcolor": "rgb(243, 243, 243)",
        "template": {
         "data": {
          "bar": [
           {
            "error_x": {
             "color": "#2a3f5f"
            },
            "error_y": {
             "color": "#2a3f5f"
            },
            "marker": {
             "line": {
              "color": "#E5ECF6",
              "width": 0.5
             }
            },
            "type": "bar"
           }
          ],
          "barpolar": [
           {
            "marker": {
             "line": {
              "color": "#E5ECF6",
              "width": 0.5
             }
            },
            "type": "barpolar"
           }
          ],
          "carpet": [
           {
            "aaxis": {
             "endlinecolor": "#2a3f5f",
             "gridcolor": "white",
             "linecolor": "white",
             "minorgridcolor": "white",
             "startlinecolor": "#2a3f5f"
            },
            "baxis": {
             "endlinecolor": "#2a3f5f",
             "gridcolor": "white",
             "linecolor": "white",
             "minorgridcolor": "white",
             "startlinecolor": "#2a3f5f"
            },
            "type": "carpet"
           }
          ],
          "choropleth": [
           {
            "colorbar": {
             "outlinewidth": 0,
             "ticks": ""
            },
            "type": "choropleth"
           }
          ],
          "contour": [
           {
            "colorbar": {
             "outlinewidth": 0,
             "ticks": ""
            },
            "colorscale": [
             [
              0,
              "#0d0887"
             ],
             [
              0.1111111111111111,
              "#46039f"
             ],
             [
              0.2222222222222222,
              "#7201a8"
             ],
             [
              0.3333333333333333,
              "#9c179e"
             ],
             [
              0.4444444444444444,
              "#bd3786"
             ],
             [
              0.5555555555555556,
              "#d8576b"
             ],
             [
              0.6666666666666666,
              "#ed7953"
             ],
             [
              0.7777777777777778,
              "#fb9f3a"
             ],
             [
              0.8888888888888888,
              "#fdca26"
             ],
             [
              1,
              "#f0f921"
             ]
            ],
            "type": "contour"
           }
          ],
          "contourcarpet": [
           {
            "colorbar": {
             "outlinewidth": 0,
             "ticks": ""
            },
            "type": "contourcarpet"
           }
          ],
          "heatmap": [
           {
            "colorbar": {
             "outlinewidth": 0,
             "ticks": ""
            },
            "colorscale": [
             [
              0,
              "#0d0887"
             ],
             [
              0.1111111111111111,
              "#46039f"
             ],
             [
              0.2222222222222222,
              "#7201a8"
             ],
             [
              0.3333333333333333,
              "#9c179e"
             ],
             [
              0.4444444444444444,
              "#bd3786"
             ],
             [
              0.5555555555555556,
              "#d8576b"
             ],
             [
              0.6666666666666666,
              "#ed7953"
             ],
             [
              0.7777777777777778,
              "#fb9f3a"
             ],
             [
              0.8888888888888888,
              "#fdca26"
             ],
             [
              1,
              "#f0f921"
             ]
            ],
            "type": "heatmap"
           }
          ],
          "heatmapgl": [
           {
            "colorbar": {
             "outlinewidth": 0,
             "ticks": ""
            },
            "colorscale": [
             [
              0,
              "#0d0887"
             ],
             [
              0.1111111111111111,
              "#46039f"
             ],
             [
              0.2222222222222222,
              "#7201a8"
             ],
             [
              0.3333333333333333,
              "#9c179e"
             ],
             [
              0.4444444444444444,
              "#bd3786"
             ],
             [
              0.5555555555555556,
              "#d8576b"
             ],
             [
              0.6666666666666666,
              "#ed7953"
             ],
             [
              0.7777777777777778,
              "#fb9f3a"
             ],
             [
              0.8888888888888888,
              "#fdca26"
             ],
             [
              1,
              "#f0f921"
             ]
            ],
            "type": "heatmapgl"
           }
          ],
          "histogram": [
           {
            "marker": {
             "colorbar": {
              "outlinewidth": 0,
              "ticks": ""
             }
            },
            "type": "histogram"
           }
          ],
          "histogram2d": [
           {
            "colorbar": {
             "outlinewidth": 0,
             "ticks": ""
            },
            "colorscale": [
             [
              0,
              "#0d0887"
             ],
             [
              0.1111111111111111,
              "#46039f"
             ],
             [
              0.2222222222222222,
              "#7201a8"
             ],
             [
              0.3333333333333333,
              "#9c179e"
             ],
             [
              0.4444444444444444,
              "#bd3786"
             ],
             [
              0.5555555555555556,
              "#d8576b"
             ],
             [
              0.6666666666666666,
              "#ed7953"
             ],
             [
              0.7777777777777778,
              "#fb9f3a"
             ],
             [
              0.8888888888888888,
              "#fdca26"
             ],
             [
              1,
              "#f0f921"
             ]
            ],
            "type": "histogram2d"
           }
          ],
          "histogram2dcontour": [
           {
            "colorbar": {
             "outlinewidth": 0,
             "ticks": ""
            },
            "colorscale": [
             [
              0,
              "#0d0887"
             ],
             [
              0.1111111111111111,
              "#46039f"
             ],
             [
              0.2222222222222222,
              "#7201a8"
             ],
             [
              0.3333333333333333,
              "#9c179e"
             ],
             [
              0.4444444444444444,
              "#bd3786"
             ],
             [
              0.5555555555555556,
              "#d8576b"
             ],
             [
              0.6666666666666666,
              "#ed7953"
             ],
             [
              0.7777777777777778,
              "#fb9f3a"
             ],
             [
              0.8888888888888888,
              "#fdca26"
             ],
             [
              1,
              "#f0f921"
             ]
            ],
            "type": "histogram2dcontour"
           }
          ],
          "mesh3d": [
           {
            "colorbar": {
             "outlinewidth": 0,
             "ticks": ""
            },
            "type": "mesh3d"
           }
          ],
          "parcoords": [
           {
            "line": {
             "colorbar": {
              "outlinewidth": 0,
              "ticks": ""
             }
            },
            "type": "parcoords"
           }
          ],
          "pie": [
           {
            "automargin": true,
            "type": "pie"
           }
          ],
          "scatter": [
           {
            "marker": {
             "colorbar": {
              "outlinewidth": 0,
              "ticks": ""
             }
            },
            "type": "scatter"
           }
          ],
          "scatter3d": [
           {
            "line": {
             "colorbar": {
              "outlinewidth": 0,
              "ticks": ""
             }
            },
            "marker": {
             "colorbar": {
              "outlinewidth": 0,
              "ticks": ""
             }
            },
            "type": "scatter3d"
           }
          ],
          "scattercarpet": [
           {
            "marker": {
             "colorbar": {
              "outlinewidth": 0,
              "ticks": ""
             }
            },
            "type": "scattercarpet"
           }
          ],
          "scattergeo": [
           {
            "marker": {
             "colorbar": {
              "outlinewidth": 0,
              "ticks": ""
             }
            },
            "type": "scattergeo"
           }
          ],
          "scattergl": [
           {
            "marker": {
             "colorbar": {
              "outlinewidth": 0,
              "ticks": ""
             }
            },
            "type": "scattergl"
           }
          ],
          "scattermapbox": [
           {
            "marker": {
             "colorbar": {
              "outlinewidth": 0,
              "ticks": ""
             }
            },
            "type": "scattermapbox"
           }
          ],
          "scatterpolar": [
           {
            "marker": {
             "colorbar": {
              "outlinewidth": 0,
              "ticks": ""
             }
            },
            "type": "scatterpolar"
           }
          ],
          "scatterpolargl": [
           {
            "marker": {
             "colorbar": {
              "outlinewidth": 0,
              "ticks": ""
             }
            },
            "type": "scatterpolargl"
           }
          ],
          "scatterternary": [
           {
            "marker": {
             "colorbar": {
              "outlinewidth": 0,
              "ticks": ""
             }
            },
            "type": "scatterternary"
           }
          ],
          "surface": [
           {
            "colorbar": {
             "outlinewidth": 0,
             "ticks": ""
            },
            "colorscale": [
             [
              0,
              "#0d0887"
             ],
             [
              0.1111111111111111,
              "#46039f"
             ],
             [
              0.2222222222222222,
              "#7201a8"
             ],
             [
              0.3333333333333333,
              "#9c179e"
             ],
             [
              0.4444444444444444,
              "#bd3786"
             ],
             [
              0.5555555555555556,
              "#d8576b"
             ],
             [
              0.6666666666666666,
              "#ed7953"
             ],
             [
              0.7777777777777778,
              "#fb9f3a"
             ],
             [
              0.8888888888888888,
              "#fdca26"
             ],
             [
              1,
              "#f0f921"
             ]
            ],
            "type": "surface"
           }
          ],
          "table": [
           {
            "cells": {
             "fill": {
              "color": "#EBF0F8"
             },
             "line": {
              "color": "white"
             }
            },
            "header": {
             "fill": {
              "color": "#C8D4E3"
             },
             "line": {
              "color": "white"
             }
            },
            "type": "table"
           }
          ]
         },
         "layout": {
          "annotationdefaults": {
           "arrowcolor": "#2a3f5f",
           "arrowhead": 0,
           "arrowwidth": 1
          },
          "autotypenumbers": "strict",
          "coloraxis": {
           "colorbar": {
            "outlinewidth": 0,
            "ticks": ""
           }
          },
          "colorscale": {
           "diverging": [
            [
             0,
             "#8e0152"
            ],
            [
             0.1,
             "#c51b7d"
            ],
            [
             0.2,
             "#de77ae"
            ],
            [
             0.3,
             "#f1b6da"
            ],
            [
             0.4,
             "#fde0ef"
            ],
            [
             0.5,
             "#f7f7f7"
            ],
            [
             0.6,
             "#e6f5d0"
            ],
            [
             0.7,
             "#b8e186"
            ],
            [
             0.8,
             "#7fbc41"
            ],
            [
             0.9,
             "#4d9221"
            ],
            [
             1,
             "#276419"
            ]
           ],
           "sequential": [
            [
             0,
             "#0d0887"
            ],
            [
             0.1111111111111111,
             "#46039f"
            ],
            [
             0.2222222222222222,
             "#7201a8"
            ],
            [
             0.3333333333333333,
             "#9c179e"
            ],
            [
             0.4444444444444444,
             "#bd3786"
            ],
            [
             0.5555555555555556,
             "#d8576b"
            ],
            [
             0.6666666666666666,
             "#ed7953"
            ],
            [
             0.7777777777777778,
             "#fb9f3a"
            ],
            [
             0.8888888888888888,
             "#fdca26"
            ],
            [
             1,
             "#f0f921"
            ]
           ],
           "sequentialminus": [
            [
             0,
             "#0d0887"
            ],
            [
             0.1111111111111111,
             "#46039f"
            ],
            [
             0.2222222222222222,
             "#7201a8"
            ],
            [
             0.3333333333333333,
             "#9c179e"
            ],
            [
             0.4444444444444444,
             "#bd3786"
            ],
            [
             0.5555555555555556,
             "#d8576b"
            ],
            [
             0.6666666666666666,
             "#ed7953"
            ],
            [
             0.7777777777777778,
             "#fb9f3a"
            ],
            [
             0.8888888888888888,
             "#fdca26"
            ],
            [
             1,
             "#f0f921"
            ]
           ]
          },
          "colorway": [
           "#636efa",
           "#EF553B",
           "#00cc96",
           "#ab63fa",
           "#FFA15A",
           "#19d3f3",
           "#FF6692",
           "#B6E880",
           "#FF97FF",
           "#FECB52"
          ],
          "font": {
           "color": "#2a3f5f"
          },
          "geo": {
           "bgcolor": "white",
           "lakecolor": "white",
           "landcolor": "#E5ECF6",
           "showlakes": true,
           "showland": true,
           "subunitcolor": "white"
          },
          "hoverlabel": {
           "align": "left"
          },
          "hovermode": "closest",
          "mapbox": {
           "style": "light"
          },
          "paper_bgcolor": "white",
          "plot_bgcolor": "#E5ECF6",
          "polar": {
           "angularaxis": {
            "gridcolor": "white",
            "linecolor": "white",
            "ticks": ""
           },
           "bgcolor": "#E5ECF6",
           "radialaxis": {
            "gridcolor": "white",
            "linecolor": "white",
            "ticks": ""
           }
          },
          "scene": {
           "xaxis": {
            "backgroundcolor": "#E5ECF6",
            "gridcolor": "white",
            "gridwidth": 2,
            "linecolor": "white",
            "showbackground": true,
            "ticks": "",
            "zerolinecolor": "white"
           },
           "yaxis": {
            "backgroundcolor": "#E5ECF6",
            "gridcolor": "white",
            "gridwidth": 2,
            "linecolor": "white",
            "showbackground": true,
            "ticks": "",
            "zerolinecolor": "white"
           },
           "zaxis": {
            "backgroundcolor": "#E5ECF6",
            "gridcolor": "white",
            "gridwidth": 2,
            "linecolor": "white",
            "showbackground": true,
            "ticks": "",
            "zerolinecolor": "white"
           }
          },
          "shapedefaults": {
           "line": {
            "color": "#2a3f5f"
           }
          },
          "ternary": {
           "aaxis": {
            "gridcolor": "white",
            "linecolor": "white",
            "ticks": ""
           },
           "baxis": {
            "gridcolor": "white",
            "linecolor": "white",
            "ticks": ""
           },
           "bgcolor": "#E5ECF6",
           "caxis": {
            "gridcolor": "white",
            "linecolor": "white",
            "ticks": ""
           }
          },
          "title": {
           "x": 0.05
          },
          "xaxis": {
           "automargin": true,
           "gridcolor": "white",
           "linecolor": "white",
           "ticks": "",
           "title": {
            "standoff": 15
           },
           "zerolinecolor": "white",
           "zerolinewidth": 2
          },
          "yaxis": {
           "automargin": true,
           "gridcolor": "white",
           "linecolor": "white",
           "ticks": "",
           "title": {
            "standoff": 15
           },
           "zerolinecolor": "white",
           "zerolinewidth": 2
          }
         }
        },
        "title": {
         "text": "Release Years of Top 100 Video Games According to Global Sales"
        },
        "xaxis": {
         "gridcolor": "rgb(255, 255, 255)",
         "gridwidth": 2,
         "ticklen": 5,
         "title": {
          "text": "Rank"
         },
         "zerolinewidth": 1
        },
        "yaxis": {
         "gridcolor": "rgb(255, 255, 255)",
         "gridwidth": 2,
         "ticklen": 5,
         "title": {
          "text": "Years"
         },
         "zerolinewidth": 1
        }
       }
      },
      "text/html": [
       "<div>                            <div id=\"28618a7f-ed1d-40b9-b5ff-1b59c2947e30\" class=\"plotly-graph-div\" style=\"height:525px; width:100%;\"></div>            <script type=\"text/javascript\">                require([\"plotly\"], function(Plotly) {                    window.PLOTLYENV=window.PLOTLYENV || {};                                    if (document.getElementById(\"28618a7f-ed1d-40b9-b5ff-1b59c2947e30\")) {                    Plotly.newPlot(                        \"28618a7f-ed1d-40b9-b5ff-1b59c2947e30\",                        [{\"marker\": {\"color\": [82.74, 40.24, 35.82, 33.0, 31.37, 30.26, 30.01, 29.02, 28.62, 28.31, 24.76, 23.42, 23.1, 22.72, 22.0, 21.82, 21.4, 20.81, 20.61, 20.22, 18.36, 18.14, 17.28, 16.38, 16.15, 15.85, 15.32, 15.3, 14.98, 14.76, 14.64, 14.64, 14.35, 14.24, 14.03, 13.73, 13.51, 13.46, 13.1, 13.04, 12.73, 12.27, 12.21, 12.14, 11.98, 11.9, 11.89, 11.66, 11.52, 11.33, 11.18, 11.02, 10.95, 10.79, 10.77, 10.69, 10.57, 10.55, 10.49, 10.42, 10.26, 10.21, 9.88, 9.87, 9.82, 9.76, 9.72, 9.59, 9.52, 9.49, 9.32, 9.3, 9.2, 9.09, 9.02, 8.84, 8.76, 8.49, 8.49, 8.49, 8.42, 8.33, 8.24, 8.11, 8.09, 8.06, 8.05, 7.86, 7.84, 7.81, 7.72, 7.69, 7.67, 7.6, 7.6, 7.58, 7.46, 7.45, 7.37, 7.34], \"colorscale\": [[0.0, \"rgb(0,0,0)\"], [0.25, \"rgb(230,0,0)\"], [0.5, \"rgb(230,210,0)\"], [0.75, \"rgb(255,255,255)\"], [1.0, \"rgb(160,200,255)\"]], \"showscale\": true, \"size\": [82.74, 40.24, 35.82, 33.0, 31.37, 30.26, 30.01, 29.02, 28.62, 28.31, 24.76, 23.42, 23.1, 22.72, 22.0, 21.82, 21.4, 20.81, 20.61, 20.22, 18.36, 18.14, 17.28, 16.38, 16.15, 15.85, 15.32, 15.3, 14.98, 14.76, 14.64, 14.64, 14.35, 14.24, 14.03, 13.73, 13.51, 13.46, 13.1, 13.04, 12.73, 12.27, 12.21, 12.14, 11.98, 11.9, 11.89, 11.66, 11.52, 11.33, 11.18, 11.02, 10.95, 10.79, 10.77, 10.69, 10.57, 10.55, 10.49, 10.42, 10.26, 10.21, 9.88, 9.87, 9.82, 9.76, 9.72, 9.59, 9.52, 9.49, 9.32, 9.3, 9.2, 9.09, 9.02, 8.84, 8.76, 8.49, 8.49, 8.49, 8.42, 8.33, 8.24, 8.11, 8.09, 8.06, 8.05, 7.86, 7.84, 7.81, 7.72, 7.69, 7.67, 7.6, 7.6, 7.58, 7.46, 7.45, 7.37, 7.34]}, \"mode\": \"markers\", \"text\": [\"Name:Wii Sports, Publisher:Nintendo\", \"Name:Super Mario Bros., Publisher:Nintendo\", \"Name:Mario Kart Wii, Publisher:Nintendo\", \"Name:Wii Sports Resort, Publisher:Nintendo\", \"Name:Pokemon Red/Pokemon Blue, Publisher:Nintendo\", \"Name:Tetris, Publisher:Nintendo\", \"Name:New Super Mario Bros., Publisher:Nintendo\", \"Name:Wii Play, Publisher:Nintendo\", \"Name:New Super Mario Bros. Wii, Publisher:Nintendo\", \"Name:Duck Hunt, Publisher:Nintendo\", \"Name:Nintendogs, Publisher:Nintendo\", \"Name:Mario Kart DS, Publisher:Nintendo\", \"Name:Pokemon Gold/Pokemon Silver, Publisher:Nintendo\", \"Name:Wii Fit, Publisher:Nintendo\", \"Name:Wii Fit Plus, Publisher:Nintendo\", \"Name:Kinect Adventures!, Publisher:Microsoft Game Studios\", \"Name:Grand Theft Auto V, Publisher:Take-Two Interactive\", \"Name:Grand Theft Auto: San Andreas, Publisher:Take-Two Interactive\", \"Name:Super Mario World, Publisher:Nintendo\", \"Name:Brain Age: Train Your Brain in Minutes a Day, Publisher:Nintendo\", \"Name:Pokemon Diamond/Pokemon Pearl, Publisher:Nintendo\", \"Name:Super Mario Land, Publisher:Nintendo\", \"Name:Super Mario Bros. 3, Publisher:Nintendo\", \"Name:Grand Theft Auto V, Publisher:Take-Two Interactive\", \"Name:Grand Theft Auto: Vice City, Publisher:Take-Two Interactive\", \"Name:Pokemon Ruby/Pokemon Sapphire, Publisher:Nintendo\", \"Name:Pokemon Black/Pokemon White, Publisher:Nintendo\", \"Name:Brain Age 2: More Training in Minutes a Day, Publisher:Nintendo\", \"Name:Gran Turismo 3: A-Spec, Publisher:Sony Computer Entertainment\", \"Name:Call of Duty: Modern Warfare 3, Publisher:Activision\", \"Name:Pok\\u00e9mon Yellow: Special Pikachu Edition, Publisher:Nintendo\", \"Name:Call of Duty: Black Ops, Publisher:Activision\", \"Name:Pokemon X/Pokemon Y, Publisher:Nintendo\", \"Name:Call of Duty: Black Ops 3, Publisher:Activision\", \"Name:Call of Duty: Black Ops II, Publisher:Activision\", \"Name:Call of Duty: Black Ops II, Publisher:Activision\", \"Name:Call of Duty: Modern Warfare 2, Publisher:Activision\", \"Name:Call of Duty: Modern Warfare 3, Publisher:Activision\", \"Name:Grand Theft Auto III, Publisher:Take-Two Interactive\", \"Name:Super Smash Bros. Brawl, Publisher:Nintendo\", \"Name:Call of Duty: Black Ops, Publisher:Activision\", \"Name:Animal Crossing: Wild World, Publisher:Nintendo\", \"Name:Mario Kart 7, Publisher:Nintendo\", \"Name:Halo 3, Publisher:Microsoft Game Studios\", \"Name:Grand Theft Auto V, Publisher:Take-Two Interactive\", \"Name:Pokemon HeartGold/Pokemon SoulSilver, Publisher:Nintendo\", \"Name:Super Mario 64, Publisher:Nintendo\", \"Name:Gran Turismo 4, Publisher:Sony Computer Entertainment\", \"Name:Super Mario Galaxy, Publisher:Nintendo\", \"Name:Pokemon Omega Ruby/Pokemon Alpha Sapphire, Publisher:Nintendo\", \"Name:Super Mario Land 2: 6 Golden Coins, Publisher:Nintendo\", \"Name:Grand Theft Auto IV, Publisher:Take-Two Interactive\", \"Name:Gran Turismo, Publisher:Sony Computer Entertainment\", \"Name:Super Mario 3D Land, Publisher:Nintendo\", \"Name:Gran Turismo 5, Publisher:Sony Computer Entertainment\", \"Name:Call of Duty: Modern Warfare 2, Publisher:Activision\", \"Name:Grand Theft Auto IV, Publisher:Take-Two Interactive\", \"Name:Super Mario All-Stars, Publisher:Nintendo\", \"Name:Pokemon FireRed/Pokemon LeafGreen, Publisher:Nintendo\", \"Name:Super Mario 64, Publisher:Nintendo\", \"Name:Just Dance 3, Publisher:Ubisoft\", \"Name:Call of Duty: Ghosts, Publisher:Activision\", \"Name:Halo: Reach, Publisher:Microsoft Game Studios\", \"Name:Mario Kart 64, Publisher:Nintendo\", \"Name:New Super Mario Bros. 2, Publisher:Nintendo\", \"Name:Halo 4, Publisher:Microsoft Game Studios\", \"Name:Final Fantasy VII, Publisher:Sony Computer Entertainment\", \"Name:Call of Duty: Ghosts, Publisher:Activision\", \"Name:Just Dance 2, Publisher:Ubisoft\", \"Name:Gran Turismo 2, Publisher:Sony Computer Entertainment\", \"Name:Call of Duty 4: Modern Warfare, Publisher:Activision\", \"Name:Donkey Kong Country, Publisher:Nintendo\", \"Name:Minecraft, Publisher:Microsoft Game Studios\", \"Name:Animal Crossing: New Leaf, Publisher:Nintendo\", \"Name:Mario Party DS, Publisher:Nintendo\", \"Name:The Elder Scrolls V: Skyrim, Publisher:Bethesda Softworks\", \"Name:Super Mario Kart, Publisher:Nintendo\", \"Name:FIFA 16, Publisher:Electronic Arts\", \"Name:Wii Party, Publisher:Nintendo\", \"Name:Halo 2, Publisher:Microsoft Game Studios\", \"Name:Mario Party 8, Publisher:Nintendo\", \"Name:Pokemon Black 2/Pokemon White 2, Publisher:Nintendo\", \"Name:FIFA Soccer 13, Publisher:Electronic Arts\", \"Name:The Sims 3, Publisher:Electronic Arts\", \"Name:GoldenEye 007, Publisher:Nintendo\", \"Name:Mario & Sonic at the Olympic Games, Publisher:Sega\", \"Name:Final Fantasy X, Publisher:Sony Computer Entertainment\", \"Name:Final Fantasy VIII, Publisher:SquareSoft\", \"Name:Pok\\u00e9mon Platinum Version, Publisher:Nintendo\", \"Name:Pac-Man, Publisher:Atari\", \"Name:Grand Theft Auto: Liberty City Stories, Publisher:Take-Two Interactive\", \"Name:Super Mario Galaxy 2, Publisher:Nintendo\", \"Name:Star Wars Battlefront (2015), Publisher:Electronic Arts\", \"Name:Call of Duty: Advanced Warfare, Publisher:Activision\", \"Name:The Legend of Zelda: Ocarina of Time, Publisher:Nintendo\", \"Name:Crash Bandicoot 2: Cortex Strikes Back, Publisher:Sony Computer Entertainment\", \"Name:Super Mario Bros. 2, Publisher:Nintendo\", \"Name:Super Smash Bros. for Wii U and 3DS, Publisher:Nintendo\", \"Name:Call of Duty: World at War, Publisher:Activision\", \"Name:Battlefield 3, Publisher:Electronic Arts\"], \"type\": \"scatter\", \"x\": [1, 2, 3, 4, 5, 6, 7, 8, 9, 10, 11, 12, 13, 14, 15, 16, 17, 18, 19, 20, 21, 22, 23, 24, 25, 26, 27, 28, 29, 30, 31, 32, 33, 34, 35, 36, 37, 38, 39, 40, 41, 42, 43, 44, 45, 46, 47, 48, 49, 50, 51, 52, 53, 54, 55, 56, 57, 58, 59, 60, 61, 62, 63, 64, 65, 66, 67, 68, 69, 70, 71, 72, 73, 74, 75, 76, 77, 78, 79, 80, 81, 82, 83, 84, 85, 86, 87, 88, 89, 90, 91, 92, 93, 94, 95, 96, 97, 98, 99, 100], \"y\": [2006.0, 1985.0, 2008.0, 2009.0, 1996.0, 1989.0, 2006.0, 2006.0, 2009.0, 1984.0, 2005.0, 2005.0, 1999.0, 2007.0, 2009.0, 2010.0, 2013.0, 2004.0, 1990.0, 2005.0, 2006.0, 1989.0, 1988.0, 2013.0, 2002.0, 2002.0, 2010.0, 2005.0, 2001.0, 2011.0, 1998.0, 2010.0, 2013.0, 2015.0, 2012.0, 2012.0, 2009.0, 2011.0, 2001.0, 2008.0, 2010.0, 2005.0, 2011.0, 2007.0, 2014.0, 2009.0, 1996.0, 2004.0, 2007.0, 2014.0, 1992.0, 2008.0, 1997.0, 2011.0, 2010.0, 2009.0, 2008.0, 1993.0, 2004.0, 2004.0, 2011.0, 2013.0, 2010.0, 1996.0, 2012.0, 2012.0, 1997.0, 2013.0, 2010.0, 1999.0, 2007.0, 1994.0, 2013.0, 2012.0, 2007.0, 2011.0, 1992.0, 2015.0, 2010.0, 2004.0, 2007.0, 2012.0, 2012.0, 2009.0, 1997.0, 2007.0, 2001.0, 1999.0, 2008.0, 1982.0, 2005.0, 2010.0, 2015.0, 2014.0, 1998.0, 1997.0, 1988.0, 2014.0, 2008.0, 2011.0]}],                        {\"paper_bgcolor\": \"rgb(243, 243, 243)\", \"plot_bgcolor\": \"rgb(243, 243, 243)\", \"template\": {\"data\": {\"bar\": [{\"error_x\": {\"color\": \"#2a3f5f\"}, \"error_y\": {\"color\": \"#2a3f5f\"}, \"marker\": {\"line\": {\"color\": \"#E5ECF6\", \"width\": 0.5}}, \"type\": \"bar\"}], \"barpolar\": [{\"marker\": {\"line\": {\"color\": \"#E5ECF6\", \"width\": 0.5}}, \"type\": \"barpolar\"}], \"carpet\": [{\"aaxis\": {\"endlinecolor\": \"#2a3f5f\", \"gridcolor\": \"white\", \"linecolor\": \"white\", \"minorgridcolor\": \"white\", \"startlinecolor\": \"#2a3f5f\"}, \"baxis\": {\"endlinecolor\": \"#2a3f5f\", \"gridcolor\": \"white\", \"linecolor\": \"white\", \"minorgridcolor\": \"white\", \"startlinecolor\": \"#2a3f5f\"}, \"type\": \"carpet\"}], \"choropleth\": [{\"colorbar\": {\"outlinewidth\": 0, \"ticks\": \"\"}, \"type\": \"choropleth\"}], \"contour\": [{\"colorbar\": {\"outlinewidth\": 0, \"ticks\": \"\"}, \"colorscale\": [[0.0, \"#0d0887\"], [0.1111111111111111, \"#46039f\"], [0.2222222222222222, \"#7201a8\"], [0.3333333333333333, \"#9c179e\"], [0.4444444444444444, \"#bd3786\"], [0.5555555555555556, \"#d8576b\"], [0.6666666666666666, \"#ed7953\"], [0.7777777777777778, \"#fb9f3a\"], [0.8888888888888888, \"#fdca26\"], [1.0, \"#f0f921\"]], \"type\": \"contour\"}], \"contourcarpet\": [{\"colorbar\": {\"outlinewidth\": 0, \"ticks\": \"\"}, \"type\": \"contourcarpet\"}], \"heatmap\": [{\"colorbar\": {\"outlinewidth\": 0, \"ticks\": \"\"}, \"colorscale\": [[0.0, \"#0d0887\"], [0.1111111111111111, \"#46039f\"], [0.2222222222222222, \"#7201a8\"], [0.3333333333333333, \"#9c179e\"], [0.4444444444444444, \"#bd3786\"], [0.5555555555555556, \"#d8576b\"], [0.6666666666666666, \"#ed7953\"], [0.7777777777777778, \"#fb9f3a\"], [0.8888888888888888, \"#fdca26\"], [1.0, \"#f0f921\"]], \"type\": \"heatmap\"}], \"heatmapgl\": [{\"colorbar\": {\"outlinewidth\": 0, \"ticks\": \"\"}, \"colorscale\": [[0.0, \"#0d0887\"], [0.1111111111111111, \"#46039f\"], [0.2222222222222222, \"#7201a8\"], [0.3333333333333333, \"#9c179e\"], [0.4444444444444444, \"#bd3786\"], [0.5555555555555556, \"#d8576b\"], [0.6666666666666666, \"#ed7953\"], [0.7777777777777778, \"#fb9f3a\"], [0.8888888888888888, \"#fdca26\"], [1.0, \"#f0f921\"]], \"type\": \"heatmapgl\"}], \"histogram\": [{\"marker\": {\"colorbar\": {\"outlinewidth\": 0, \"ticks\": \"\"}}, \"type\": \"histogram\"}], \"histogram2d\": [{\"colorbar\": {\"outlinewidth\": 0, \"ticks\": \"\"}, \"colorscale\": [[0.0, \"#0d0887\"], [0.1111111111111111, \"#46039f\"], [0.2222222222222222, \"#7201a8\"], [0.3333333333333333, \"#9c179e\"], [0.4444444444444444, \"#bd3786\"], [0.5555555555555556, \"#d8576b\"], [0.6666666666666666, \"#ed7953\"], [0.7777777777777778, \"#fb9f3a\"], [0.8888888888888888, \"#fdca26\"], [1.0, \"#f0f921\"]], \"type\": \"histogram2d\"}], \"histogram2dcontour\": [{\"colorbar\": {\"outlinewidth\": 0, \"ticks\": \"\"}, \"colorscale\": [[0.0, \"#0d0887\"], [0.1111111111111111, \"#46039f\"], [0.2222222222222222, \"#7201a8\"], [0.3333333333333333, \"#9c179e\"], [0.4444444444444444, \"#bd3786\"], [0.5555555555555556, \"#d8576b\"], [0.6666666666666666, \"#ed7953\"], [0.7777777777777778, \"#fb9f3a\"], [0.8888888888888888, \"#fdca26\"], [1.0, \"#f0f921\"]], \"type\": \"histogram2dcontour\"}], \"mesh3d\": [{\"colorbar\": {\"outlinewidth\": 0, \"ticks\": \"\"}, \"type\": \"mesh3d\"}], \"parcoords\": [{\"line\": {\"colorbar\": {\"outlinewidth\": 0, \"ticks\": \"\"}}, \"type\": \"parcoords\"}], \"pie\": [{\"automargin\": true, \"type\": \"pie\"}], \"scatter\": [{\"marker\": {\"colorbar\": {\"outlinewidth\": 0, \"ticks\": \"\"}}, \"type\": \"scatter\"}], \"scatter3d\": [{\"line\": {\"colorbar\": {\"outlinewidth\": 0, \"ticks\": \"\"}}, \"marker\": {\"colorbar\": {\"outlinewidth\": 0, \"ticks\": \"\"}}, \"type\": \"scatter3d\"}], \"scattercarpet\": [{\"marker\": {\"colorbar\": {\"outlinewidth\": 0, \"ticks\": \"\"}}, \"type\": \"scattercarpet\"}], \"scattergeo\": [{\"marker\": {\"colorbar\": {\"outlinewidth\": 0, \"ticks\": \"\"}}, \"type\": \"scattergeo\"}], \"scattergl\": [{\"marker\": {\"colorbar\": {\"outlinewidth\": 0, \"ticks\": \"\"}}, \"type\": \"scattergl\"}], \"scattermapbox\": [{\"marker\": {\"colorbar\": {\"outlinewidth\": 0, \"ticks\": \"\"}}, \"type\": \"scattermapbox\"}], \"scatterpolar\": [{\"marker\": {\"colorbar\": {\"outlinewidth\": 0, \"ticks\": \"\"}}, \"type\": \"scatterpolar\"}], \"scatterpolargl\": [{\"marker\": {\"colorbar\": {\"outlinewidth\": 0, \"ticks\": \"\"}}, \"type\": \"scatterpolargl\"}], \"scatterternary\": [{\"marker\": {\"colorbar\": {\"outlinewidth\": 0, \"ticks\": \"\"}}, \"type\": \"scatterternary\"}], \"surface\": [{\"colorbar\": {\"outlinewidth\": 0, \"ticks\": \"\"}, \"colorscale\": [[0.0, \"#0d0887\"], [0.1111111111111111, \"#46039f\"], [0.2222222222222222, \"#7201a8\"], [0.3333333333333333, \"#9c179e\"], [0.4444444444444444, \"#bd3786\"], [0.5555555555555556, \"#d8576b\"], [0.6666666666666666, \"#ed7953\"], [0.7777777777777778, \"#fb9f3a\"], [0.8888888888888888, \"#fdca26\"], [1.0, \"#f0f921\"]], \"type\": \"surface\"}], \"table\": [{\"cells\": {\"fill\": {\"color\": \"#EBF0F8\"}, \"line\": {\"color\": \"white\"}}, \"header\": {\"fill\": {\"color\": \"#C8D4E3\"}, \"line\": {\"color\": \"white\"}}, \"type\": \"table\"}]}, \"layout\": {\"annotationdefaults\": {\"arrowcolor\": \"#2a3f5f\", \"arrowhead\": 0, \"arrowwidth\": 1}, \"autotypenumbers\": \"strict\", \"coloraxis\": {\"colorbar\": {\"outlinewidth\": 0, \"ticks\": \"\"}}, \"colorscale\": {\"diverging\": [[0, \"#8e0152\"], [0.1, \"#c51b7d\"], [0.2, \"#de77ae\"], [0.3, \"#f1b6da\"], [0.4, \"#fde0ef\"], [0.5, \"#f7f7f7\"], [0.6, \"#e6f5d0\"], [0.7, \"#b8e186\"], [0.8, \"#7fbc41\"], [0.9, \"#4d9221\"], [1, \"#276419\"]], \"sequential\": [[0.0, \"#0d0887\"], [0.1111111111111111, \"#46039f\"], [0.2222222222222222, \"#7201a8\"], [0.3333333333333333, \"#9c179e\"], [0.4444444444444444, \"#bd3786\"], [0.5555555555555556, \"#d8576b\"], [0.6666666666666666, \"#ed7953\"], [0.7777777777777778, \"#fb9f3a\"], [0.8888888888888888, \"#fdca26\"], [1.0, \"#f0f921\"]], \"sequentialminus\": [[0.0, \"#0d0887\"], [0.1111111111111111, \"#46039f\"], [0.2222222222222222, \"#7201a8\"], [0.3333333333333333, \"#9c179e\"], [0.4444444444444444, \"#bd3786\"], [0.5555555555555556, \"#d8576b\"], [0.6666666666666666, \"#ed7953\"], [0.7777777777777778, \"#fb9f3a\"], [0.8888888888888888, \"#fdca26\"], [1.0, \"#f0f921\"]]}, \"colorway\": [\"#636efa\", \"#EF553B\", \"#00cc96\", \"#ab63fa\", \"#FFA15A\", \"#19d3f3\", \"#FF6692\", \"#B6E880\", \"#FF97FF\", \"#FECB52\"], \"font\": {\"color\": \"#2a3f5f\"}, \"geo\": {\"bgcolor\": \"white\", \"lakecolor\": \"white\", \"landcolor\": \"#E5ECF6\", \"showlakes\": true, \"showland\": true, \"subunitcolor\": \"white\"}, \"hoverlabel\": {\"align\": \"left\"}, \"hovermode\": \"closest\", \"mapbox\": {\"style\": \"light\"}, \"paper_bgcolor\": \"white\", \"plot_bgcolor\": \"#E5ECF6\", \"polar\": {\"angularaxis\": {\"gridcolor\": \"white\", \"linecolor\": \"white\", \"ticks\": \"\"}, \"bgcolor\": \"#E5ECF6\", \"radialaxis\": {\"gridcolor\": \"white\", \"linecolor\": \"white\", \"ticks\": \"\"}}, \"scene\": {\"xaxis\": {\"backgroundcolor\": \"#E5ECF6\", \"gridcolor\": \"white\", \"gridwidth\": 2, \"linecolor\": \"white\", \"showbackground\": true, \"ticks\": \"\", \"zerolinecolor\": \"white\"}, \"yaxis\": {\"backgroundcolor\": \"#E5ECF6\", \"gridcolor\": \"white\", \"gridwidth\": 2, \"linecolor\": \"white\", \"showbackground\": true, \"ticks\": \"\", \"zerolinecolor\": \"white\"}, \"zaxis\": {\"backgroundcolor\": \"#E5ECF6\", \"gridcolor\": \"white\", \"gridwidth\": 2, \"linecolor\": \"white\", \"showbackground\": true, \"ticks\": \"\", \"zerolinecolor\": \"white\"}}, \"shapedefaults\": {\"line\": {\"color\": \"#2a3f5f\"}}, \"ternary\": {\"aaxis\": {\"gridcolor\": \"white\", \"linecolor\": \"white\", \"ticks\": \"\"}, \"baxis\": {\"gridcolor\": \"white\", \"linecolor\": \"white\", \"ticks\": \"\"}, \"bgcolor\": \"#E5ECF6\", \"caxis\": {\"gridcolor\": \"white\", \"linecolor\": \"white\", \"ticks\": \"\"}}, \"title\": {\"x\": 0.05}, \"xaxis\": {\"automargin\": true, \"gridcolor\": \"white\", \"linecolor\": \"white\", \"ticks\": \"\", \"title\": {\"standoff\": 15}, \"zerolinecolor\": \"white\", \"zerolinewidth\": 2}, \"yaxis\": {\"automargin\": true, \"gridcolor\": \"white\", \"linecolor\": \"white\", \"ticks\": \"\", \"title\": {\"standoff\": 15}, \"zerolinecolor\": \"white\", \"zerolinewidth\": 2}}}, \"title\": {\"text\": \"Release Years of Top 100 Video Games According to Global Sales\"}, \"xaxis\": {\"gridcolor\": \"rgb(255, 255, 255)\", \"gridwidth\": 2, \"ticklen\": 5, \"title\": {\"text\": \"Rank\"}, \"zerolinewidth\": 1}, \"yaxis\": {\"gridcolor\": \"rgb(255, 255, 255)\", \"gridwidth\": 2, \"ticklen\": 5, \"title\": {\"text\": \"Years\"}, \"zerolinewidth\": 1}},                        {\"responsive\": true}                    ).then(function(){\n",
       "                            \n",
       "var gd = document.getElementById('28618a7f-ed1d-40b9-b5ff-1b59c2947e30');\n",
       "var x = new MutationObserver(function (mutations, observer) {{\n",
       "        var display = window.getComputedStyle(gd).display;\n",
       "        if (!display || display === 'none') {{\n",
       "            console.log([gd, 'removed!']);\n",
       "            Plotly.purge(gd);\n",
       "            observer.disconnect();\n",
       "        }}\n",
       "}});\n",
       "\n",
       "// Listen for the removal of the full notebook cells\n",
       "var notebookContainer = gd.closest('#notebook-container');\n",
       "if (notebookContainer) {{\n",
       "    x.observe(notebookContainer, {childList: true});\n",
       "}}\n",
       "\n",
       "// Listen for the clearing of the current output cell\n",
       "var outputEl = gd.closest('.output');\n",
       "if (outputEl) {{\n",
       "    x.observe(outputEl, {childList: true});\n",
       "}}\n",
       "\n",
       "                        })                };                });            </script>        </div>"
      ]
     },
     "metadata": {},
     "output_type": "display_data"
    }
   ],
   "source": [
    "fig={\n",
    "    \"data\" : [\n",
    "    {\n",
    "        'x': top100.Rank,\n",
    "        'y': top100.Year,\n",
    "        'mode': 'markers',\n",
    "        'marker': {\n",
    "            \"color\":top100.Global_Sales,\n",
    "            'size': top100.Global_Sales,\n",
    "            'showscale': True,\n",
    "            \"colorscale\":'Blackbody'\n",
    "        },\n",
    "        \"text\" :  \"Name:\"+ top100.Name +\",\"+\" Publisher:\" + top100.Publisher\n",
    "        \n",
    "    },\n",
    "],\n",
    "\"layout\":\n",
    "    {\n",
    "    \"title\":\"Release Years of Top 100 Video Games According to Global Sales\",\n",
    "    \"xaxis\":{\n",
    "        \"title\":\"Rank\",\n",
    "        \"gridcolor\":'rgb(255, 255, 255)',\n",
    "        \"zerolinewidth\":1,\n",
    "        \"ticklen\":5,\n",
    "        \"gridwidth\":2,\n",
    "    },\n",
    "    \"yaxis\":{\n",
    "        \"title\":'Years',\n",
    "        \"gridcolor\":'rgb(255, 255, 255)',\n",
    "        \"zerolinewidth\":1,\n",
    "        \"ticklen\":5,\n",
    "        \"gridwidth\":2,\n",
    "    },\n",
    "    \n",
    "    \"paper_bgcolor\":'rgb(243, 243, 243)',\n",
    "    \"plot_bgcolor\":'rgb(243, 243, 243)'\n",
    "    }}\n",
    "\n",
    "iplot(fig)\n"
   ]
  },
  {
   "cell_type": "markdown",
   "metadata": {},
   "source": [
    "from the above graph we can see that the top 15 games are developed and created by Ninteno."
   ]
  },
  {
   "cell_type": "markdown",
   "metadata": {},
   "source": [
    "## Now let's explore number of video game genres in terms of their platform"
   ]
  },
  {
   "cell_type": "code",
   "execution_count": 13,
   "metadata": {},
   "outputs": [
    {
     "data": {
      "text/plain": [
       "<AxesSubplot:xlabel='Platform', ylabel='count'>"
      ]
     },
     "execution_count": 13,
     "metadata": {},
     "output_type": "execute_result"
    },
    {
     "data": {
      "image/png": "[encoded data removed]",
      "text/plain": [
       "<Figure size 1152x576 with 1 Axes>"
      ]
     },
     "metadata": {},
     "output_type": "display_data"
    }
   ],
   "source": [
    "plt.figure(figsize=(16,8))\n",
    "sns.countplot('Platform',hue='Genre',data=df,dodge=False)"
   ]
  },
  {
   "cell_type": "markdown",
   "metadata": {},
   "source": [
    "from the above graph we can see that the platforms with most games are PS2,DS,PS3, also we can see that platforms such as PS3,PS2 and X360 are dominated by action genre games "
   ]
  },
  {
   "cell_type": "markdown",
   "metadata": {},
   "source": [
    "## Now let's see top global sales according to their platform and genre"
   ]
  },
  {
   "cell_type": "code",
   "execution_count": 14,
   "metadata": {},
   "outputs": [
    {
     "data": {
      "text/plain": [
       "<AxesSubplot:xlabel='Platform', ylabel='Global_Sales'>"
      ]
     },
     "execution_count": 14,
     "metadata": {},
     "output_type": "execute_result"
    },
    {
     "data": {
      "image/png": "[encoded data removed]",
      "text/plain": [
       "<Figure size 1152x576 with 1 Axes>"
      ]
     },
     "metadata": {},
     "output_type": "display_data"
    }
   ],
   "source": [
    "sns.set_style('darkgrid')\n",
    "plt.figure(figsize=(16,8))\n",
    "sns.barplot(x='Platform',y='Global_Sales',hue='Genre',data=df,dodge=False,palette=[\"C0\", \"C1\", \"C2\",\"C4\",\n",
    "                                                                                   \"C5\",\"C6\",\"C7\",\"C8\",\"C9\",\"C10\",\"k\"],ci=None)"
   ]
  },
  {
   "cell_type": "code",
   "execution_count": null,
   "metadata": {},
   "outputs": [],
   "source": []
  }
 ],
 "metadata": {
  "kernelspec": {
   "display_name": "Python 3",
   "language": "python",
   "name": "python3"
  },
  "language_info": {
   "codemirror_mode": {
    "name": "ipython",
    "version": 3
   },
   "file_extension": ".py",
   "mimetype": "text/x-python",
   "name": "python",
   "nbconvert_exporter": "python",
   "pygments_lexer": "ipython3",
   "version": "3.8.5"
  }
 },
 "nbformat": 4,
 "nbformat_minor": 4
}
